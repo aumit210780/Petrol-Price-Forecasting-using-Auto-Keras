{
  "nbformat": 4,
  "nbformat_minor": 0,
  "metadata": {
    "colab": {
      "name": "Petrol_Price_Forecasting_using_auto_Keras.ipynb",
      "provenance": [],
      "collapsed_sections": []
    },
    "kernelspec": {
      "name": "python3",
      "display_name": "Python 3"
    },
    "language_info": {
      "name": "python"
    }
  },
  "cells": [
    {
      "cell_type": "markdown",
      "source": [
        "## **Project Name:** Petrol Price Forecasting  using Tensor Flow and Auto Keras"
      ],
      "metadata": {
        "id": "ULeocDydz_GV"
      }
    },
    {
      "cell_type": "markdown",
      "source": [
        "##Project Goal:\n",
        "Main goal of this project is to predict/forecast the correct oil/petrol prices for the upcoming dates using Machine Learning Techniques and Auto ML"
      ],
      "metadata": {
        "id": "-zasveBDzgAw"
      }
    },
    {
      "cell_type": "markdown",
      "source": [
        "## Petrol Prices are going up continously these days and it has become very hard to predict what will be the price range in the next few months or even days.\n",
        "\n",
        "### In this project we will try to forecast the different petrol prices for the upcoming dates given to us. \n",
        "\n",
        "### We will use LSTM and ARIMA forecasting models to predict the prices then we will see how we can implement the same using Auto Keras, which is an Auto ML Library."
      ],
      "metadata": {
        "id": "7u8zfQFIDXIm"
      }
    },
    {
      "cell_type": "markdown",
      "source": [
        "## TimeLine of the project:\n",
        "- Data Analysis\n",
        "- Model Building and predictions using ML techniques\n",
        "- Model Building and prediction using Auto Keras(Auto ML)"
      ],
      "metadata": {
        "id": "msvM4RF4DbbG"
      }
    },
    {
      "cell_type": "markdown",
      "source": [
        "**Importing Libraries**"
      ],
      "metadata": {
        "id": "COBXp-9TDcfl"
      }
    },
    {
      "cell_type": "code",
      "source": [
        "import pandas as pd\n",
        "import numpy as np\n",
        "from matplotlib import pyplot as plt\n",
        "%matplotlib inline\n",
        "import matplotlib "
      ],
      "metadata": {
        "id": "nrDpYkZsDf6V"
      },
      "execution_count": 1,
      "outputs": []
    },
    {
      "cell_type": "markdown",
      "source": [
        "**Connecting Drive**"
      ],
      "metadata": {
        "id": "BykuDbdblnWR"
      }
    },
    {
      "cell_type": "code",
      "source": [
        "from google.colab import drive\n",
        "drive.mount('/content/drive')"
      ],
      "metadata": {
        "colab": {
          "base_uri": "https://localhost:8080/"
        },
        "id": "Pj-nubeXlvGp",
        "outputId": "ce5d9095-1166-4c39-8a0a-8d0fd66529f7"
      },
      "execution_count": 2,
      "outputs": [
        {
          "output_type": "stream",
          "name": "stdout",
          "text": [
            "Mounted at /content/drive\n"
          ]
        }
      ]
    },
    {
      "cell_type": "markdown",
      "source": [
        "**Reading the Dataset**"
      ],
      "metadata": {
        "id": "ITCyU33Sl48A"
      }
    },
    {
      "cell_type": "code",
      "source": [
        "df1 = pd.read_csv(\"/content/drive/MyDrive/data/train_data_petrol.csv\")\n",
        "df1.head()"
      ],
      "metadata": {
        "colab": {
          "base_uri": "https://localhost:8080/",
          "height": 206
        },
        "id": "z0uK03nMl71Q",
        "outputId": "6dd69bd6-1f2e-49a8-83c6-8e5169671b9c"
      },
      "execution_count": 3,
      "outputs": [
        {
          "output_type": "execute_result",
          "data": {
            "text/plain": [
              "        Date  Petrol (USD)\n",
              "0   6/9/2003         74.59\n",
              "1  6/16/2003         74.47\n",
              "2  6/23/2003         74.42\n",
              "3  6/30/2003         74.35\n",
              "4   7/7/2003         74.28"
            ],
            "text/html": [
              "\n",
              "  <div id=\"df-8f23ffdd-b806-4e98-b591-571f27016e57\">\n",
              "    <div class=\"colab-df-container\">\n",
              "      <div>\n",
              "<style scoped>\n",
              "    .dataframe tbody tr th:only-of-type {\n",
              "        vertical-align: middle;\n",
              "    }\n",
              "\n",
              "    .dataframe tbody tr th {\n",
              "        vertical-align: top;\n",
              "    }\n",
              "\n",
              "    .dataframe thead th {\n",
              "        text-align: right;\n",
              "    }\n",
              "</style>\n",
              "<table border=\"1\" class=\"dataframe\">\n",
              "  <thead>\n",
              "    <tr style=\"text-align: right;\">\n",
              "      <th></th>\n",
              "      <th>Date</th>\n",
              "      <th>Petrol (USD)</th>\n",
              "    </tr>\n",
              "  </thead>\n",
              "  <tbody>\n",
              "    <tr>\n",
              "      <th>0</th>\n",
              "      <td>6/9/2003</td>\n",
              "      <td>74.59</td>\n",
              "    </tr>\n",
              "    <tr>\n",
              "      <th>1</th>\n",
              "      <td>6/16/2003</td>\n",
              "      <td>74.47</td>\n",
              "    </tr>\n",
              "    <tr>\n",
              "      <th>2</th>\n",
              "      <td>6/23/2003</td>\n",
              "      <td>74.42</td>\n",
              "    </tr>\n",
              "    <tr>\n",
              "      <th>3</th>\n",
              "      <td>6/30/2003</td>\n",
              "      <td>74.35</td>\n",
              "    </tr>\n",
              "    <tr>\n",
              "      <th>4</th>\n",
              "      <td>7/7/2003</td>\n",
              "      <td>74.28</td>\n",
              "    </tr>\n",
              "  </tbody>\n",
              "</table>\n",
              "</div>\n",
              "      <button class=\"colab-df-convert\" onclick=\"convertToInteractive('df-8f23ffdd-b806-4e98-b591-571f27016e57')\"\n",
              "              title=\"Convert this dataframe to an interactive table.\"\n",
              "              style=\"display:none;\">\n",
              "        \n",
              "  <svg xmlns=\"http://www.w3.org/2000/svg\" height=\"24px\"viewBox=\"0 0 24 24\"\n",
              "       width=\"24px\">\n",
              "    <path d=\"M0 0h24v24H0V0z\" fill=\"none\"/>\n",
              "    <path d=\"M18.56 5.44l.94 2.06.94-2.06 2.06-.94-2.06-.94-.94-2.06-.94 2.06-2.06.94zm-11 1L8.5 8.5l.94-2.06 2.06-.94-2.06-.94L8.5 2.5l-.94 2.06-2.06.94zm10 10l.94 2.06.94-2.06 2.06-.94-2.06-.94-.94-2.06-.94 2.06-2.06.94z\"/><path d=\"M17.41 7.96l-1.37-1.37c-.4-.4-.92-.59-1.43-.59-.52 0-1.04.2-1.43.59L10.3 9.45l-7.72 7.72c-.78.78-.78 2.05 0 2.83L4 21.41c.39.39.9.59 1.41.59.51 0 1.02-.2 1.41-.59l7.78-7.78 2.81-2.81c.8-.78.8-2.07 0-2.86zM5.41 20L4 18.59l7.72-7.72 1.47 1.35L5.41 20z\"/>\n",
              "  </svg>\n",
              "      </button>\n",
              "      \n",
              "  <style>\n",
              "    .colab-df-container {\n",
              "      display:flex;\n",
              "      flex-wrap:wrap;\n",
              "      gap: 12px;\n",
              "    }\n",
              "\n",
              "    .colab-df-convert {\n",
              "      background-color: #E8F0FE;\n",
              "      border: none;\n",
              "      border-radius: 50%;\n",
              "      cursor: pointer;\n",
              "      display: none;\n",
              "      fill: #1967D2;\n",
              "      height: 32px;\n",
              "      padding: 0 0 0 0;\n",
              "      width: 32px;\n",
              "    }\n",
              "\n",
              "    .colab-df-convert:hover {\n",
              "      background-color: #E2EBFA;\n",
              "      box-shadow: 0px 1px 2px rgba(60, 64, 67, 0.3), 0px 1px 3px 1px rgba(60, 64, 67, 0.15);\n",
              "      fill: #174EA6;\n",
              "    }\n",
              "\n",
              "    [theme=dark] .colab-df-convert {\n",
              "      background-color: #3B4455;\n",
              "      fill: #D2E3FC;\n",
              "    }\n",
              "\n",
              "    [theme=dark] .colab-df-convert:hover {\n",
              "      background-color: #434B5C;\n",
              "      box-shadow: 0px 1px 3px 1px rgba(0, 0, 0, 0.15);\n",
              "      filter: drop-shadow(0px 1px 2px rgba(0, 0, 0, 0.3));\n",
              "      fill: #FFFFFF;\n",
              "    }\n",
              "  </style>\n",
              "\n",
              "      <script>\n",
              "        const buttonEl =\n",
              "          document.querySelector('#df-8f23ffdd-b806-4e98-b591-571f27016e57 button.colab-df-convert');\n",
              "        buttonEl.style.display =\n",
              "          google.colab.kernel.accessAllowed ? 'block' : 'none';\n",
              "\n",
              "        async function convertToInteractive(key) {\n",
              "          const element = document.querySelector('#df-8f23ffdd-b806-4e98-b591-571f27016e57');\n",
              "          const dataTable =\n",
              "            await google.colab.kernel.invokeFunction('convertToInteractive',\n",
              "                                                     [key], {});\n",
              "          if (!dataTable) return;\n",
              "\n",
              "          const docLinkHtml = 'Like what you see? Visit the ' +\n",
              "            '<a target=\"_blank\" href=https://colab.research.google.com/notebooks/data_table.ipynb>data table notebook</a>'\n",
              "            + ' to learn more about interactive tables.';\n",
              "          element.innerHTML = '';\n",
              "          dataTable['output_type'] = 'display_data';\n",
              "          await google.colab.output.renderOutput(dataTable, element);\n",
              "          const docLink = document.createElement('div');\n",
              "          docLink.innerHTML = docLinkHtml;\n",
              "          element.appendChild(docLink);\n",
              "        }\n",
              "      </script>\n",
              "    </div>\n",
              "  </div>\n",
              "  "
            ]
          },
          "metadata": {},
          "execution_count": 3
        }
      ]
    },
    {
      "cell_type": "markdown",
      "source": [
        "**Data Analysis and splitting the data**"
      ],
      "metadata": {
        "id": "RWBrPeLtmIW_"
      }
    },
    {
      "cell_type": "code",
      "source": [
        "df1.head()\n",
        "df1.isnull().sum()"
      ],
      "metadata": {
        "colab": {
          "base_uri": "https://localhost:8080/"
        },
        "id": "mAoYi_ODmOP2",
        "outputId": "a41a264c-a69c-4569-a42d-c58ae2def7b5"
      },
      "execution_count": 4,
      "outputs": [
        {
          "output_type": "execute_result",
          "data": {
            "text/plain": [
              "Date            0\n",
              "Petrol (USD)    2\n",
              "dtype: int64"
            ]
          },
          "metadata": {},
          "execution_count": 4
        }
      ]
    },
    {
      "cell_type": "code",
      "source": [
        "df2 = df1.dropna()"
      ],
      "metadata": {
        "id": "O5EUQSTZmUa2"
      },
      "execution_count": 5,
      "outputs": []
    },
    {
      "cell_type": "code",
      "execution_count": 6,
      "metadata": {
        "id": "JRNXoxOeyQ_4",
        "colab": {
          "base_uri": "https://localhost:8080/",
          "height": 293
        },
        "outputId": "cc3d6c61-f516-4b46-83b2-644bd21c695a"
      },
      "outputs": [
        {
          "output_type": "stream",
          "name": "stderr",
          "text": [
            "/usr/local/lib/python3.7/dist-packages/pandas/core/frame.py:5047: SettingWithCopyWarning: \n",
            "A value is trying to be set on a copy of a slice from a DataFrame\n",
            "\n",
            "See the caveats in the documentation: https://pandas.pydata.org/pandas-docs/stable/user_guide/indexing.html#returning-a-view-versus-a-copy\n",
            "  errors=errors,\n"
          ]
        },
        {
          "output_type": "execute_result",
          "data": {
            "text/plain": [
              "        Date  Petrol\n",
              "0   6/9/2003   74.59\n",
              "1  6/16/2003   74.47\n",
              "2  6/23/2003   74.42\n",
              "3  6/30/2003   74.35\n",
              "4   7/7/2003   74.28"
            ],
            "text/html": [
              "\n",
              "  <div id=\"df-84d088ca-063f-434e-996e-3582556f754e\">\n",
              "    <div class=\"colab-df-container\">\n",
              "      <div>\n",
              "<style scoped>\n",
              "    .dataframe tbody tr th:only-of-type {\n",
              "        vertical-align: middle;\n",
              "    }\n",
              "\n",
              "    .dataframe tbody tr th {\n",
              "        vertical-align: top;\n",
              "    }\n",
              "\n",
              "    .dataframe thead th {\n",
              "        text-align: right;\n",
              "    }\n",
              "</style>\n",
              "<table border=\"1\" class=\"dataframe\">\n",
              "  <thead>\n",
              "    <tr style=\"text-align: right;\">\n",
              "      <th></th>\n",
              "      <th>Date</th>\n",
              "      <th>Petrol</th>\n",
              "    </tr>\n",
              "  </thead>\n",
              "  <tbody>\n",
              "    <tr>\n",
              "      <th>0</th>\n",
              "      <td>6/9/2003</td>\n",
              "      <td>74.59</td>\n",
              "    </tr>\n",
              "    <tr>\n",
              "      <th>1</th>\n",
              "      <td>6/16/2003</td>\n",
              "      <td>74.47</td>\n",
              "    </tr>\n",
              "    <tr>\n",
              "      <th>2</th>\n",
              "      <td>6/23/2003</td>\n",
              "      <td>74.42</td>\n",
              "    </tr>\n",
              "    <tr>\n",
              "      <th>3</th>\n",
              "      <td>6/30/2003</td>\n",
              "      <td>74.35</td>\n",
              "    </tr>\n",
              "    <tr>\n",
              "      <th>4</th>\n",
              "      <td>7/7/2003</td>\n",
              "      <td>74.28</td>\n",
              "    </tr>\n",
              "  </tbody>\n",
              "</table>\n",
              "</div>\n",
              "      <button class=\"colab-df-convert\" onclick=\"convertToInteractive('df-84d088ca-063f-434e-996e-3582556f754e')\"\n",
              "              title=\"Convert this dataframe to an interactive table.\"\n",
              "              style=\"display:none;\">\n",
              "        \n",
              "  <svg xmlns=\"http://www.w3.org/2000/svg\" height=\"24px\"viewBox=\"0 0 24 24\"\n",
              "       width=\"24px\">\n",
              "    <path d=\"M0 0h24v24H0V0z\" fill=\"none\"/>\n",
              "    <path d=\"M18.56 5.44l.94 2.06.94-2.06 2.06-.94-2.06-.94-.94-2.06-.94 2.06-2.06.94zm-11 1L8.5 8.5l.94-2.06 2.06-.94-2.06-.94L8.5 2.5l-.94 2.06-2.06.94zm10 10l.94 2.06.94-2.06 2.06-.94-2.06-.94-.94-2.06-.94 2.06-2.06.94z\"/><path d=\"M17.41 7.96l-1.37-1.37c-.4-.4-.92-.59-1.43-.59-.52 0-1.04.2-1.43.59L10.3 9.45l-7.72 7.72c-.78.78-.78 2.05 0 2.83L4 21.41c.39.39.9.59 1.41.59.51 0 1.02-.2 1.41-.59l7.78-7.78 2.81-2.81c.8-.78.8-2.07 0-2.86zM5.41 20L4 18.59l7.72-7.72 1.47 1.35L5.41 20z\"/>\n",
              "  </svg>\n",
              "      </button>\n",
              "      \n",
              "  <style>\n",
              "    .colab-df-container {\n",
              "      display:flex;\n",
              "      flex-wrap:wrap;\n",
              "      gap: 12px;\n",
              "    }\n",
              "\n",
              "    .colab-df-convert {\n",
              "      background-color: #E8F0FE;\n",
              "      border: none;\n",
              "      border-radius: 50%;\n",
              "      cursor: pointer;\n",
              "      display: none;\n",
              "      fill: #1967D2;\n",
              "      height: 32px;\n",
              "      padding: 0 0 0 0;\n",
              "      width: 32px;\n",
              "    }\n",
              "\n",
              "    .colab-df-convert:hover {\n",
              "      background-color: #E2EBFA;\n",
              "      box-shadow: 0px 1px 2px rgba(60, 64, 67, 0.3), 0px 1px 3px 1px rgba(60, 64, 67, 0.15);\n",
              "      fill: #174EA6;\n",
              "    }\n",
              "\n",
              "    [theme=dark] .colab-df-convert {\n",
              "      background-color: #3B4455;\n",
              "      fill: #D2E3FC;\n",
              "    }\n",
              "\n",
              "    [theme=dark] .colab-df-convert:hover {\n",
              "      background-color: #434B5C;\n",
              "      box-shadow: 0px 1px 3px 1px rgba(0, 0, 0, 0.15);\n",
              "      filter: drop-shadow(0px 1px 2px rgba(0, 0, 0, 0.3));\n",
              "      fill: #FFFFFF;\n",
              "    }\n",
              "  </style>\n",
              "\n",
              "      <script>\n",
              "        const buttonEl =\n",
              "          document.querySelector('#df-84d088ca-063f-434e-996e-3582556f754e button.colab-df-convert');\n",
              "        buttonEl.style.display =\n",
              "          google.colab.kernel.accessAllowed ? 'block' : 'none';\n",
              "\n",
              "        async function convertToInteractive(key) {\n",
              "          const element = document.querySelector('#df-84d088ca-063f-434e-996e-3582556f754e');\n",
              "          const dataTable =\n",
              "            await google.colab.kernel.invokeFunction('convertToInteractive',\n",
              "                                                     [key], {});\n",
              "          if (!dataTable) return;\n",
              "\n",
              "          const docLinkHtml = 'Like what you see? Visit the ' +\n",
              "            '<a target=\"_blank\" href=https://colab.research.google.com/notebooks/data_table.ipynb>data table notebook</a>'\n",
              "            + ' to learn more about interactive tables.';\n",
              "          element.innerHTML = '';\n",
              "          dataTable['output_type'] = 'display_data';\n",
              "          await google.colab.output.renderOutput(dataTable, element);\n",
              "          const docLink = document.createElement('div');\n",
              "          docLink.innerHTML = docLinkHtml;\n",
              "          element.appendChild(docLink);\n",
              "        }\n",
              "      </script>\n",
              "    </div>\n",
              "  </div>\n",
              "  "
            ]
          },
          "metadata": {},
          "execution_count": 6
        }
      ],
      "source": [
        "df2.rename(columns={\"Petrol (USD)\": \"Petrol\"}, inplace = True)\n",
        "df2.head()"
      ]
    },
    {
      "cell_type": "code",
      "source": [
        "plt.scatter(df2.Date, df2.Petrol,color='red',label='Prices', s=50)"
      ],
      "metadata": {
        "colab": {
          "base_uri": "https://localhost:8080/",
          "height": 282
        },
        "id": "R-hfhE0Hmd2I",
        "outputId": "6379d5eb-ad12-4314-a275-17b7db842b91"
      },
      "execution_count": 7,
      "outputs": [
        {
          "output_type": "execute_result",
          "data": {
            "text/plain": [
              "<matplotlib.collections.PathCollection at 0x7fe286919a90>"
            ]
          },
          "metadata": {},
          "execution_count": 7
        },
        {
          "output_type": "display_data",
          "data": {
            "text/plain": [
              "<Figure size 432x288 with 1 Axes>"
            ],
            "image/png": "[encoded data removed]"
          },
          "metadata": {
            "needs_background": "light"
          }
        }
      ]
    },
    {
      "cell_type": "code",
      "source": [
        "df3=df2[df2.Petrol<160]\n",
        "plt.scatter(df3.Date, df3.Petrol,color='blue',label='Prices', s=50)"
      ],
      "metadata": {
        "colab": {
          "base_uri": "https://localhost:8080/",
          "height": 282
        },
        "id": "QCO-OQuvmffU",
        "outputId": "2d0bb7ad-dbca-4e52-cb3f-990d8d793a44"
      },
      "execution_count": 8,
      "outputs": [
        {
          "output_type": "execute_result",
          "data": {
            "text/plain": [
              "<matplotlib.collections.PathCollection at 0x7fe2860af090>"
            ]
          },
          "metadata": {},
          "execution_count": 8
        },
        {
          "output_type": "display_data",
          "data": {
            "text/plain": [
              "<Figure size 432x288 with 1 Axes>"
            ],
            "image/png": "[encoded data removed]"
          },
          "metadata": {
            "needs_background": "light"
          }
        }
      ]
    },
    {
      "cell_type": "code",
      "source": [
        "df4=df3.reset_index()['Petrol']\n",
        "df4.head()"
      ],
      "metadata": {
        "colab": {
          "base_uri": "https://localhost:8080/"
        },
        "id": "374lBvVumjio",
        "outputId": "5524395a-dc1b-48ab-88ec-8631d17b522a"
      },
      "execution_count": 9,
      "outputs": [
        {
          "output_type": "execute_result",
          "data": {
            "text/plain": [
              "0    74.59\n",
              "1    74.47\n",
              "2    74.42\n",
              "3    74.35\n",
              "4    74.28\n",
              "Name: Petrol, dtype: float64"
            ]
          },
          "metadata": {},
          "execution_count": 9
        }
      ]
    },
    {
      "cell_type": "code",
      "source": [
        "from sklearn.preprocessing import MinMaxScaler\n",
        "scaler=MinMaxScaler(feature_range=(0,1))\n",
        "df4=scaler.fit_transform(np.array(df4).reshape(-1,1))"
      ],
      "metadata": {
        "id": "idAG0PiJmoGg"
      },
      "execution_count": 10,
      "outputs": []
    },
    {
      "cell_type": "code",
      "source": [
        "df4"
      ],
      "metadata": {
        "colab": {
          "base_uri": "https://localhost:8080/"
        },
        "id": "T8U-iqm2mumv",
        "outputId": "88762abc-201b-48f4-ab86-8dc8927692e8"
      },
      "execution_count": 11,
      "outputs": [
        {
          "output_type": "execute_result",
          "data": {
            "text/plain": [
              "array([[0.00559152],\n",
              "       [0.00382578],\n",
              "       [0.00309005],\n",
              "       [0.00206004],\n",
              "       [0.00103002],\n",
              "       [0.        ],\n",
              "       [0.0126545 ],\n",
              "       [0.01309594],\n",
              "       [0.01339023],\n",
              "       [0.01809888],\n",
              "       [0.02354326],\n",
              "       [0.02707475],\n",
              "       [0.02825191],\n",
              "       [0.02972337],\n",
              "       [0.02928193],\n",
              "       [0.0285462 ],\n",
              "       [0.02751619],\n",
              "       [0.03266627],\n",
              "       [0.02486757],\n",
              "       [0.02707475],\n",
              "       [0.02633902],\n",
              "       [0.02633902],\n",
              "       [0.02545615],\n",
              "       [0.02530901],\n",
              "       [0.02663331],\n",
              "       [0.02633902],\n",
              "       [0.02589759],\n",
              "       [0.02575044],\n",
              "       [0.02516186],\n",
              "       [0.02545615],\n",
              "       [0.02457328],\n",
              "       [0.02486757],\n",
              "       [0.03163626],\n",
              "       [0.03281342],\n",
              "       [0.033402  ],\n",
              "       [0.03369629],\n",
              "       [0.03281342],\n",
              "       [0.03193055],\n",
              "       [0.03104768],\n",
              "       [0.03708064],\n",
              "       [0.04679223],\n",
              "       [0.04752796],\n",
              "       [0.04973514],\n",
              "       [0.05370806],\n",
              "       [0.05400235],\n",
              "       [0.05635668],\n",
              "       [0.06165391],\n",
              "       [0.07460271],\n",
              "       [0.08961154],\n",
              "       [0.10712184],\n",
              "       [0.11653914],\n",
              "       [0.11977634],\n",
              "       [0.12110065],\n",
              "       [0.10785756],\n",
              "       [0.10050029],\n",
              "       [0.09123014],\n",
              "       [0.08328428],\n",
              "       [0.09020012],\n",
              "       [0.09755739],\n",
              "       [0.09799882],\n",
              "       [0.09785168],\n",
              "       [0.10256033],\n",
              "       [0.10359035],\n",
              "       [0.10741613],\n",
              "       [0.10771042],\n",
              "       [0.10535609],\n",
              "       [0.10447322],\n",
              "       [0.10403178],\n",
              "       [0.10918187],\n",
              "       [0.11536198],\n",
              "       [0.13095939],\n",
              "       [0.13449088],\n",
              "       [0.14317245],\n",
              "       [0.14802825],\n",
              "       [0.14905827],\n",
              "       [0.14788111],\n",
              "       [0.1066804 ],\n",
              "       [0.1465568 ],\n",
              "       [0.1449382 ],\n",
              "       [0.1066804 ],\n",
              "       [0.10285462],\n",
              "       [0.10241318],\n",
              "       [0.08284285],\n",
              "       [0.06945262],\n",
              "       [0.06945262],\n",
              "       [0.07842849],\n",
              "       [0.08284285],\n",
              "       [0.08563861],\n",
              "       [0.08740436],\n",
              "       [0.09181872],\n",
              "       [0.10226604],\n",
              "       [0.10932902],\n",
              "       [0.12492643],\n",
              "       [0.1352266 ],\n",
              "       [0.14273102],\n",
              "       [0.16774573],\n",
              "       [0.16804002],\n",
              "       [0.16627428],\n",
              "       [0.16524426],\n",
              "       [0.1640671 ],\n",
              "       [0.16274279],\n",
              "       [0.15538552],\n",
              "       [0.14670394],\n",
              "       [0.14420247],\n",
              "       [0.15862272],\n",
              "       [0.16642142],\n",
              "       [0.18422602],\n",
              "       [0.19540906],\n",
              "       [0.19894055],\n",
              "       [0.21100647],\n",
              "       [0.21762802],\n",
              "       [0.22130665],\n",
              "       [0.22748676],\n",
              "       [0.2405827 ],\n",
              "       [0.24367275],\n",
              "       [0.2532372 ],\n",
              "       [0.29664509],\n",
              "       [0.30694526],\n",
              "       [0.29723367],\n",
              "       [0.28134197],\n",
              "       [0.28399058],\n",
              "       [0.29487934],\n",
              "       [0.29326074],\n",
              "       [0.283402  ],\n",
              "       [0.26868746],\n",
              "       [0.24014126],\n",
              "       [0.21188935],\n",
              "       [0.19334903],\n",
              "       [0.19334903],\n",
              "       [0.19114185],\n",
              "       [0.19643908],\n",
              "       [0.20114773],\n",
              "       [0.20335491],\n",
              "       [0.21115362],\n",
              "       [0.21777516],\n",
              "       [0.22572101],\n",
              "       [0.23057681],\n",
              "       [0.22836963],\n",
              "       [0.22719247],\n",
              "       [0.22645674],\n",
              "       [0.2230724 ],\n",
              "       [0.22572101],\n",
              "       [0.23513832],\n",
              "       [0.24941142],\n",
              "       [0.25853443],\n",
              "       [0.27310182],\n",
              "       [0.29458505],\n",
              "       [0.31106533],\n",
              "       [0.32254267],\n",
              "       [0.32739847],\n",
              "       [0.32636845],\n",
              "       [0.32210124],\n",
              "       [0.31121248],\n",
              "       [0.30944673],\n",
              "       [0.31312537],\n",
              "       [0.31238964],\n",
              "       [0.30547381],\n",
              "       [0.30988817],\n",
              "       [0.31606828],\n",
              "       [0.33357858],\n",
              "       [0.34682166],\n",
              "       [0.34755739],\n",
              "       [0.35079459],\n",
              "       [0.34741024],\n",
              "       [0.316804  ],\n",
              "       [0.29708652],\n",
              "       [0.27472042],\n",
              "       [0.25412007],\n",
              "       [0.22910536],\n",
              "       [0.20585639],\n",
              "       [0.18746321],\n",
              "       [0.18231313],\n",
              "       [0.17216009],\n",
              "       [0.16965862],\n",
              "       [0.16759859],\n",
              "       [0.16671572],\n",
              "       [0.16597999],\n",
              "       [0.1656857 ],\n",
              "       [0.16553855],\n",
              "       [0.19467334],\n",
              "       [0.19849912],\n",
              "       [0.20144202],\n",
              "       [0.2007063 ],\n",
              "       [0.19791054],\n",
              "       [0.18967039],\n",
              "       [0.17760447],\n",
              "       [0.16848146],\n",
              "       [0.16789288],\n",
              "       [0.17525015],\n",
              "       [0.18231313],\n",
              "       [0.18922896],\n",
              "       [0.1990877 ],\n",
              "       [0.20997646],\n",
              "       [0.216598  ],\n",
              "       [0.22233667],\n",
              "       [0.23925839],\n",
              "       [0.24970571],\n",
              "       [0.26162448],\n",
              "       [0.27545615],\n",
              "       [0.28310771],\n",
              "       [0.29752796],\n",
              "       [0.30694526],\n",
              "       [0.31636257],\n",
              "       [0.32298411],\n",
              "       [0.3281342 ],\n",
              "       [0.32960565],\n",
              "       [0.32886992],\n",
              "       [0.32857563],\n",
              "       [0.32592702],\n",
              "       [0.32357269],\n",
              "       [0.32371984],\n",
              "       [0.32401413],\n",
              "       [0.32357269],\n",
              "       [0.32283696],\n",
              "       [0.32062978],\n",
              "       [0.31047675],\n",
              "       [0.30591524],\n",
              "       [0.30297234],\n",
              "       [0.30047087],\n",
              "       [0.30076516],\n",
              "       [0.30459094],\n",
              "       [0.32636845],\n",
              "       [0.33740436],\n",
              "       [0.33814008],\n",
              "       [0.3472631 ],\n",
              "       [0.35388464],\n",
              "       [0.37007063],\n",
              "       [0.39037669],\n",
              "       [0.4011183 ],\n",
              "       [0.4108299 ],\n",
              "       [0.41745144],\n",
              "       [0.41877575],\n",
              "       [0.41774573],\n",
              "       [0.41671572],\n",
              "       [0.41862861],\n",
              "       [0.42907593],\n",
              "       [0.43569747],\n",
              "       [0.44158328],\n",
              "       [0.44158328],\n",
              "       [0.43878752],\n",
              "       [0.43349029],\n",
              "       [0.43393172],\n",
              "       [0.44791054],\n",
              "       [0.45659211],\n",
              "       [0.46718658],\n",
              "       [0.47380812],\n",
              "       [0.48101825],\n",
              "       [0.48396115],\n",
              "       [0.48602119],\n",
              "       [0.49146557],\n",
              "       [0.50559152],\n",
              "       [0.51927604],\n",
              "       [0.53104768],\n",
              "       [0.54193643],\n",
              "       [0.57018835],\n",
              "       [0.59711595],\n",
              "       [0.61536198],\n",
              "       [0.62757504],\n",
              "       [0.63978811],\n",
              "       [0.65082401],\n",
              "       [0.65670983],\n",
              "       [0.66318423],\n",
              "       [0.66553855],\n",
              "       [0.66494997],\n",
              "       [0.62831077],\n",
              "       [0.60108888],\n",
              "       [0.5843143 ],\n",
              "       [0.55929959],\n",
              "       [0.55635668],\n",
              "       [0.5590053 ],\n",
              "       [0.56415539],\n",
              "       [0.5635668 ],\n",
              "       [0.53855209],\n",
              "       [0.52442613],\n",
              "       [0.51854032],\n",
              "       [0.48307828],\n",
              "       [0.41862861],\n",
              "       [0.35918187],\n",
              "       [0.34123014],\n",
              "       [0.31901118],\n",
              "       [0.30341377],\n",
              "       [0.27339612],\n",
              "       [0.25397293],\n",
              "       [0.23469688],\n",
              "       [0.21865803],\n",
              "       [0.20306062],\n",
              "       [0.19320188],\n",
              "       [0.16494997],\n",
              "       [0.17377869],\n",
              "       [0.17628016],\n",
              "       [0.19437905],\n",
              "       [0.2052678 ],\n",
              "       [0.22174809],\n",
              "       [0.2341083 ],\n",
              "       [0.23719835],\n",
              "       [0.23646263],\n",
              "       [0.23454974],\n",
              "       [0.23469688],\n",
              "       [0.23469688],\n",
              "       [0.25220718],\n",
              "       [0.28708064],\n",
              "       [0.29281931],\n",
              "       [0.30032372],\n",
              "       [0.30782813],\n",
              "       [0.31474397],\n",
              "       [0.32931136],\n",
              "       [0.34329017],\n",
              "       [0.36330194],\n",
              "       [0.37051207],\n",
              "       [0.38816951],\n",
              "       [0.40862272],\n",
              "       [0.42083579],\n",
              "       [0.42804591],\n",
              "       [0.43201883],\n",
              "       [0.42039435],\n",
              "       [0.41215421],\n",
              "       [0.41141848],\n",
              "       [0.41421424],\n",
              "       [0.42377869],\n",
              "       [0.4377575 ],\n",
              "       [0.44864626],\n",
              "       [0.45467922],\n",
              "       [0.48028252],\n",
              "       [0.47410241],\n",
              "       [0.46718658],\n",
              "       [0.45953502],\n",
              "       [0.45114773],\n",
              "       [0.44879341],\n",
              "       [0.45423779],\n",
              "       [0.47895821],\n",
              "       [0.48881695],\n",
              "       [0.49867569],\n",
              "       [0.50426722],\n",
              "       [0.50794585],\n",
              "       [0.50882872],\n",
              "       [0.50662154],\n",
              "       [0.50456151],\n",
              "       [0.48940553],\n",
              "       [0.4889641 ],\n",
              "       [0.51692172],\n",
              "       [0.53722778],\n",
              "       [0.55017657],\n",
              "       [0.5541495 ],\n",
              "       [0.55473808],\n",
              "       [0.55532666],\n",
              "       [0.55444379],\n",
              "       [0.54958799],\n",
              "       [0.5622425 ],\n",
              "       [0.58122425],\n",
              "       [0.60697469],\n",
              "       [0.62360212],\n",
              "       [0.63375515],\n",
              "       [0.66333137],\n",
              "       [0.67289582],\n",
              "       [0.68187169],\n",
              "       [0.68834609],\n",
              "       [0.69114185],\n",
              "       [0.69305474],\n",
              "       [0.69290759],\n",
              "       [0.67274868],\n",
              "       [0.65229547],\n",
              "       [0.64729253],\n",
              "       [0.64243673],\n",
              "       [0.64140671],\n",
              "       [0.64258387],\n",
              "       [0.64302531],\n",
              "       [0.63537375],\n",
              "       [0.6274279 ],\n",
              "       [0.62389641],\n",
              "       [0.62242496],\n",
              "       [0.62007063],\n",
              "       [0.61992348],\n",
              "       [0.60962331],\n",
              "       [0.59991171],\n",
              "       [0.59417304],\n",
              "       [0.59520306],\n",
              "       [0.60108888],\n",
              "       [0.60594467],\n",
              "       [0.61506769],\n",
              "       [0.62639788],\n",
              "       [0.63375515],\n",
              "       [0.64052384],\n",
              "       [0.64699823],\n",
              "       [0.65420836],\n",
              "       [0.65612125],\n",
              "       [0.65891701],\n",
              "       [0.66215421],\n",
              "       [0.68172454],\n",
              "       [0.69849912],\n",
              "       [0.70776928],\n",
              "       [0.7243967 ],\n",
              "       [0.7451442 ],\n",
              "       [0.78266627],\n",
              "       [0.78958211],\n",
              "       [0.79664509],\n",
              "       [0.79958799],\n",
              "       [0.8009123 ],\n",
              "       [0.80223661],\n",
              "       [0.80503237],\n",
              "       [0.816804  ],\n",
              "       [0.83975868],\n",
              "       [0.85300177],\n",
              "       [0.86668629],\n",
              "       [0.85682755],\n",
              "       [0.86227192],\n",
              "       [0.87507357],\n",
              "       [0.89537964],\n",
              "       [0.90361978],\n",
              "       [0.91347852],\n",
              "       [0.92466157],\n",
              "       [0.91509712],\n",
              "       [0.9108299 ],\n",
              "       [0.90288405],\n",
              "       [0.90361978],\n",
              "       [0.90715127],\n",
              "       [0.90965274],\n",
              "       [0.89243673],\n",
              "       [0.87139494],\n",
              "       [0.88243084],\n",
              "       [0.89405533],\n",
              "       [0.90420836],\n",
              "       [0.91024132],\n",
              "       [0.91597999],\n",
              "       [0.90847557],\n",
              "       [0.88802237],\n",
              "       [0.88449088],\n",
              "       [0.88890524],\n",
              "       [0.89449676],\n",
              "       [0.90038258],\n",
              "       [0.90406121],\n",
              "       [0.89479105],\n",
              "       [0.88669806],\n",
              "       [0.88699235],\n",
              "       [0.88949382],\n",
              "       [0.89052384],\n",
              "       [0.88581519],\n",
              "       [0.87507357],\n",
              "       [0.87065921],\n",
              "       [0.86756916],\n",
              "       [0.86183049],\n",
              "       [0.85815185],\n",
              "       [0.85756327],\n",
              "       [0.85638611],\n",
              "       [0.85623896],\n",
              "       [0.86035903],\n",
              "       [0.8693349 ],\n",
              "       [0.87566215],\n",
              "       [0.88125368],\n",
              "       [0.88346086],\n",
              "       [0.89302531],\n",
              "       [0.89758682],\n",
              "       [0.91230135],\n",
              "       [0.9283402 ],\n",
              "       [0.93716892],\n",
              "       [0.95276633],\n",
              "       [0.96041789],\n",
              "       [0.98263685],\n",
              "       [0.99705709],\n",
              "       [1.        ],\n",
              "       [0.99396704],\n",
              "       [0.98278399],\n",
              "       [0.97012949],\n",
              "       [0.94290759],\n",
              "       [0.90582696],\n",
              "       [0.8852266 ],\n",
              "       [0.8806651 ],\n",
              "       [0.87492643],\n",
              "       [0.850206  ],\n",
              "       [0.84373161],\n",
              "       [0.82828134],\n",
              "       [0.83652148],\n",
              "       [0.84284873],\n",
              "       [0.8534432 ],\n",
              "       [0.86183049],\n",
              "       [0.87080636],\n",
              "       [0.88375515],\n",
              "       [0.90509123],\n",
              "       [0.92539729],\n",
              "       [0.93908181],\n",
              "       [0.95203061],\n",
              "       [0.95953502],\n",
              "       [0.96130077],\n",
              "       [0.94496763],\n",
              "       [0.94217187],\n",
              "       [0.94379046],\n",
              "       [0.94290759],\n",
              "       [0.92363155],\n",
              "       [0.91553855],\n",
              "       [0.89582107],\n",
              "       [0.88802237],\n",
              "       [0.88537375],\n",
              "       [0.86580341],\n",
              "       [0.85844614],\n",
              "       [0.85005886],\n",
              "       [0.84961742],\n",
              "       [0.84917599],\n",
              "       [0.84829311],\n",
              "       [0.85035315],\n",
              "       [0.8534432 ],\n",
              "       [0.86433196],\n",
              "       [0.88537375],\n",
              "       [0.9027369 ],\n",
              "       [0.9218658 ],\n",
              "       [0.94599765],\n",
              "       [0.96027075],\n",
              "       [0.96806945],\n",
              "       [0.93246027],\n",
              "       [0.92525015],\n",
              "       [0.9283402 ],\n",
              "       [0.92848735],\n",
              "       [0.92554444],\n",
              "       [0.90450265],\n",
              "       [0.88949382],\n",
              "       [0.87124779],\n",
              "       [0.86683343],\n",
              "       [0.86756916],\n",
              "       [0.87448499],\n",
              "       [0.88037081],\n",
              "       [0.88419659],\n",
              "       [0.88655091],\n",
              "       [0.88743378],\n",
              "       [0.87154208],\n",
              "       [0.87639788],\n",
              "       [0.89376104],\n",
              "       [0.90979988],\n",
              "       [0.92201295],\n",
              "       [0.92422013],\n",
              "       [0.92583873],\n",
              "       [0.92392584],\n",
              "       [0.92142437],\n",
              "       [0.92598587],\n",
              "       [0.93275456],\n",
              "       [0.93084167],\n",
              "       [0.92319011],\n",
              "       [0.8709535 ],\n",
              "       [0.84476162],\n",
              "       [0.84549735],\n",
              "       [0.84343732],\n",
              "       [0.84181872],\n",
              "       [0.81974691],\n",
              "       [0.81665686],\n",
              "       [0.81930547],\n",
              "       [0.82136551],\n",
              "       [0.82460271],\n",
              "       [0.83210712],\n",
              "       [0.83505003],\n",
              "       [0.8216598 ],\n",
              "       [0.82136551],\n",
              "       [0.82474985],\n",
              "       [0.82622131],\n",
              "       [0.81165391],\n",
              "       [0.80650383],\n",
              "       [0.80400235],\n",
              "       [0.80341377],\n",
              "       [0.80856386],\n",
              "       [0.80915244],\n",
              "       [0.81150677],\n",
              "       [0.8119482 ],\n",
              "       [0.80267805],\n",
              "       [0.79988228],\n",
              "       [0.80267805],\n",
              "       [0.80194232],\n",
              "       [0.80459094],\n",
              "       [0.80782813],\n",
              "       [0.80753384],\n",
              "       [0.81018246],\n",
              "       [0.8135668 ],\n",
              "       [0.81238964],\n",
              "       [0.81371395],\n",
              "       [0.81547969],\n",
              "       [0.81636257],\n",
              "       [0.81915833],\n",
              "       [0.82298411],\n",
              "       [0.8310771 ],\n",
              "       [0.83711006],\n",
              "       [0.83725721],\n",
              "       [0.83622719],\n",
              "       [0.83313714],\n",
              "       [0.81547969],\n",
              "       [0.8122425 ],\n",
              "       [0.81047675],\n",
              "       [0.79649794],\n",
              "       [0.79164214],\n",
              "       [0.79649794],\n",
              "       [0.79782225],\n",
              "       [0.80061801],\n",
              "       [0.80017657],\n",
              "       [0.77354326],\n",
              "       [0.76942319],\n",
              "       [0.7532372 ],\n",
              "       [0.74896998],\n",
              "       [0.73175397],\n",
              "       [0.71703943],\n",
              "       [0.71056504],\n",
              "       [0.70747499],\n",
              "       [0.69114185],\n",
              "       [0.67127722],\n",
              "       [0.6193349 ],\n",
              "       [0.58048852],\n",
              "       [0.57313125],\n",
              "       [0.54223072],\n",
              "       [0.51000589],\n",
              "       [0.47998823],\n",
              "       [0.47248381],\n",
              "       [0.46836374],\n",
              "       [0.47292525],\n",
              "       [0.48631548],\n",
              "       [0.50220718],\n",
              "       [0.51486168],\n",
              "       [0.52766333],\n",
              "       [0.54193643],\n",
              "       [0.5509123 ],\n",
              "       [0.55694526],\n",
              "       [0.56150677],\n",
              "       [0.56371395],\n",
              "       [0.56886404],\n",
              "       [0.57886992],\n",
              "       [0.58946439],\n",
              "       [0.60167746],\n",
              "       [0.61109476],\n",
              "       [0.61521483],\n",
              "       [0.61683343],\n",
              "       [0.61874632],\n",
              "       [0.62065921],\n",
              "       [0.62374926],\n",
              "       [0.62301354],\n",
              "       [0.61992348],\n",
              "       [0.6209535 ],\n",
              "       [0.62654503],\n",
              "       [0.62139494],\n",
              "       [0.61668629],\n",
              "       [0.60726898],\n",
              "       [0.5940259 ],\n",
              "       [0.57416127],\n",
              "       [0.5444379 ],\n",
              "       [0.5398764 ],\n",
              "       [0.53546204],\n",
              "       [0.53560918],\n",
              "       [0.51883461],\n",
              "       [0.5110359 ],\n",
              "       [0.51147734],\n",
              "       [0.51206592],\n",
              "       [0.49779282],\n",
              "       [0.48557975],\n",
              "       [0.48454974],\n",
              "       [0.48778693],\n",
              "       [0.48675692],\n",
              "       [0.48204826],\n",
              "       [0.47881107],\n",
              "       [0.43834609],\n",
              "       [0.41377281],\n",
              "       [0.41053561],\n",
              "       [0.40891701],\n",
              "       [0.40729841],\n",
              "       [0.4059741 ],\n",
              "       [0.40038258],\n",
              "       [0.39949971],\n",
              "       [0.40170689],\n",
              "       [0.40082401],\n",
              "       [0.39994114],\n",
              "       [0.40038258],\n",
              "       [0.40097116],\n",
              "       [0.40464979],\n",
              "       [0.41745144],\n",
              "       [0.42951736],\n",
              "       [0.4458505 ],\n",
              "       [0.45879929],\n",
              "       [0.47380812],\n",
              "       [0.48454974],\n",
              "       [0.49455562],\n",
              "       [0.5       ],\n",
              "       [0.50500294],\n",
              "       [0.51368452],\n",
              "       [0.52354326],\n",
              "       [0.53251913],\n",
              "       [0.54178929],\n",
              "       [0.54458505],\n",
              "       [0.54782225],\n",
              "       [0.5509123 ],\n",
              "       [0.55444379],\n",
              "       [0.55488523],\n",
              "       [0.55150088],\n",
              "       [0.54208358],\n",
              "       [0.52295468],\n",
              "       [0.51603885],\n",
              "       [0.52118893],\n",
              "       [0.53296057],\n",
              "       [0.54090642],\n",
              "       [0.54590936],\n",
              "       [0.54561507],\n",
              "       [0.54664509],\n",
              "       [0.5509123 ],\n",
              "       [0.56121248],\n",
              "       [0.58137139],\n",
              "       [0.60314891],\n",
              "       [0.61521483],\n",
              "       [0.62316068],\n",
              "       [0.62227781],\n",
              "       [0.59593879],\n",
              "       [0.58137139],\n",
              "       [0.58048852],\n",
              "       [0.58887581],\n",
              "       [0.600206  ],\n",
              "       [0.60682755],\n",
              "       [0.62963508],\n",
              "       [0.64405533],\n",
              "       [0.65361978],\n",
              "       [0.66539141],\n",
              "       [0.67392584],\n",
              "       [0.67642731],\n",
              "       [0.67598587],\n",
              "       [0.6767216 ],\n",
              "       [0.67554444],\n",
              "       [0.67407298],\n",
              "       [0.67083579],\n",
              "       [0.65832843],\n",
              "       [0.64479105],\n",
              "       [0.62860506],\n",
              "       [0.62992937],\n",
              "       [0.63758093],\n",
              "       [0.6465568 ],\n",
              "       [0.64552678],\n",
              "       [0.63051795],\n",
              "       [0.60903473],\n",
              "       [0.61006474],\n",
              "       [0.61183049],\n",
              "       [0.61227192],\n",
              "       [0.61035903],\n",
              "       [0.60197175],\n",
              "       [0.59181872],\n",
              "       [0.58166569],\n",
              "       [0.57931136],\n",
              "       [0.58387287],\n",
              "       [0.58534432],\n",
              "       [0.58784579],\n",
              "       [0.59696881],\n",
              "       [0.60800471],\n",
              "       [0.61550912],\n",
              "       [0.62080636],\n",
              "       [0.62889935],\n",
              "       [0.64640965],\n",
              "       [0.65685697],\n",
              "       [0.65715127],\n",
              "       [0.64626251],\n",
              "       [0.63198941],\n",
              "       [0.62978222],\n",
              "       [0.63022366],\n",
              "       [0.63051795],\n",
              "       [0.63802237],\n",
              "       [0.65773985],\n",
              "       [0.6689229 ],\n",
              "       [0.67569158],\n",
              "       [0.67010006],\n",
              "       [0.67245438],\n",
              "       [0.6734844 ],\n",
              "       [0.67377869],\n",
              "       [0.67657446],\n",
              "       [0.68143025],\n",
              "       [0.68790465],\n",
              "       [0.6958505 ],\n",
              "       [0.69864626],\n",
              "       [0.69923484],\n",
              "       [0.69702766],\n",
              "       [0.68143025],\n",
              "       [0.66715715],\n",
              "       [0.66333137],\n",
              "       [0.66068275],\n",
              "       [0.66156563],\n",
              "       [0.6624485 ],\n",
              "       [0.66539141],\n",
              "       [0.67319011],\n",
              "       [0.68201883],\n",
              "       [0.69496763],\n",
              "       [0.70644497],\n",
              "       [0.72189523],\n",
              "       [0.7373455 ],\n",
              "       [0.7610359 ],\n",
              "       [0.78531489],\n",
              "       [0.79782225],\n",
              "       [0.80047087],\n",
              "       [0.79031783],\n",
              "       [0.77942908],\n",
              "       [0.77001177],\n",
              "       [0.77633902],\n",
              "       [0.78369629],\n",
              "       [0.78413773],\n",
              "       [0.78472631],\n",
              "       [0.79178929],\n",
              "       [0.79723367],\n",
              "       [0.80311948],\n",
              "       [0.80885815],\n",
              "       [0.81739258],\n",
              "       [0.82445556],\n",
              "       [0.82960565],\n",
              "       [0.82960565],\n",
              "       [0.82062978],\n",
              "       [0.82313125],\n",
              "       [0.83284285],\n",
              "       [0.83534432],\n",
              "       [0.83034138],\n",
              "       [0.82254267],\n",
              "       [0.80532666],\n",
              "       [0.78266627],\n",
              "       [0.75868158],\n",
              "       [0.73705121],\n",
              "       [0.70865215],\n",
              "       [0.68878752],\n",
              "       [0.68275456],\n",
              "       [0.67642731]])"
            ]
          },
          "metadata": {},
          "execution_count": 11
        }
      ]
    },
    {
      "cell_type": "code",
      "source": [
        "training_size=int(len(df4)*0.65)\n",
        "test_size=len(df4)-training_size\n",
        "train_data,test_data=df4[0:training_size,:],df4[training_size:len(df4),:1]"
      ],
      "metadata": {
        "id": "5QxVNqxxmzS3"
      },
      "execution_count": 12,
      "outputs": []
    },
    {
      "cell_type": "code",
      "source": [
        "train_data.shape\n",
        "test_data.shape"
      ],
      "metadata": {
        "colab": {
          "base_uri": "https://localhost:8080/"
        },
        "id": "Ubzy5Ri2m5nX",
        "outputId": "d0588e08-53ca-4838-cbf6-471368e9ac94"
      },
      "execution_count": 13,
      "outputs": [
        {
          "output_type": "execute_result",
          "data": {
            "text/plain": [
              "(284, 1)"
            ]
          },
          "metadata": {},
          "execution_count": 13
        }
      ]
    },
    {
      "cell_type": "markdown",
      "source": [
        "**Data Preprocessing**"
      ],
      "metadata": {
        "id": "0Z0HdGAOnB0_"
      }
    },
    {
      "cell_type": "code",
      "source": [
        "import numpy\n",
        "# convert an array of values into a dataset matrix\n",
        "def create_dataset(dataset, time_step=1):\n",
        "\tdataX, dataY = [], []\n",
        "\tfor i in range(len(dataset)-time_step-1):\n",
        "\t\ta = dataset[i:(i+time_step), 0]   ###i=0, 0,1,2,3-----99   100 \n",
        "\t\tdataX.append(a)\n",
        "\t\tdataY.append(dataset[i + time_step, 0])\n",
        "\treturn numpy.array(dataX), numpy.array(dataY)"
      ],
      "metadata": {
        "id": "cxNyBJWcnFZS"
      },
      "execution_count": 14,
      "outputs": []
    },
    {
      "cell_type": "code",
      "source": [
        "# reshape into X=t,t+1,t+2,t+3 and Y=t+4\n",
        "time_step = 100\n",
        "X_train, y_train = create_dataset(train_data, time_step)\n",
        "X_test, ytest = create_dataset(test_data, time_step)"
      ],
      "metadata": {
        "id": "9yw47MOqnRmv"
      },
      "execution_count": 15,
      "outputs": []
    },
    {
      "cell_type": "code",
      "source": [
        "X_train"
      ],
      "metadata": {
        "colab": {
          "base_uri": "https://localhost:8080/"
        },
        "id": "Etu0w2V1nTFx",
        "outputId": "c5aee8a3-5dd6-4bf9-ff36-b0f1bc0cb4c5"
      },
      "execution_count": 16,
      "outputs": [
        {
          "output_type": "execute_result",
          "data": {
            "text/plain": [
              "array([[0.00559152, 0.00382578, 0.00309005, ..., 0.16627428, 0.16524426,\n",
              "        0.1640671 ],\n",
              "       [0.00382578, 0.00309005, 0.00206004, ..., 0.16524426, 0.1640671 ,\n",
              "        0.16274279],\n",
              "       [0.00309005, 0.00206004, 0.00103002, ..., 0.1640671 , 0.16274279,\n",
              "        0.15538552],\n",
              "       ...,\n",
              "       [0.91024132, 0.91597999, 0.90847557, ..., 0.88419659, 0.88655091,\n",
              "        0.88743378],\n",
              "       [0.91597999, 0.90847557, 0.88802237, ..., 0.88655091, 0.88743378,\n",
              "        0.87154208],\n",
              "       [0.90847557, 0.88802237, 0.88449088, ..., 0.88743378, 0.87154208,\n",
              "        0.87639788]])"
            ]
          },
          "metadata": {},
          "execution_count": 16
        }
      ]
    },
    {
      "cell_type": "code",
      "source": [
        "y_train"
      ],
      "metadata": {
        "colab": {
          "base_uri": "https://localhost:8080/"
        },
        "id": "ABjdW6KHnWDw",
        "outputId": "3c6ae15f-8968-4589-8fe2-a14227487d17"
      },
      "execution_count": 17,
      "outputs": [
        {
          "output_type": "execute_result",
          "data": {
            "text/plain": [
              "array([0.16274279, 0.15538552, 0.14670394, 0.14420247, 0.15862272,\n",
              "       0.16642142, 0.18422602, 0.19540906, 0.19894055, 0.21100647,\n",
              "       0.21762802, 0.22130665, 0.22748676, 0.2405827 , 0.24367275,\n",
              "       0.2532372 , 0.29664509, 0.30694526, 0.29723367, 0.28134197,\n",
              "       0.28399058, 0.29487934, 0.29326074, 0.283402  , 0.26868746,\n",
              "       0.24014126, 0.21188935, 0.19334903, 0.19334903, 0.19114185,\n",
              "       0.19643908, 0.20114773, 0.20335491, 0.21115362, 0.21777516,\n",
              "       0.22572101, 0.23057681, 0.22836963, 0.22719247, 0.22645674,\n",
              "       0.2230724 , 0.22572101, 0.23513832, 0.24941142, 0.25853443,\n",
              "       0.27310182, 0.29458505, 0.31106533, 0.32254267, 0.32739847,\n",
              "       0.32636845, 0.32210124, 0.31121248, 0.30944673, 0.31312537,\n",
              "       0.31238964, 0.30547381, 0.30988817, 0.31606828, 0.33357858,\n",
              "       0.34682166, 0.34755739, 0.35079459, 0.34741024, 0.316804  ,\n",
              "       0.29708652, 0.27472042, 0.25412007, 0.22910536, 0.20585639,\n",
              "       0.18746321, 0.18231313, 0.17216009, 0.16965862, 0.16759859,\n",
              "       0.16671572, 0.16597999, 0.1656857 , 0.16553855, 0.19467334,\n",
              "       0.19849912, 0.20144202, 0.2007063 , 0.19791054, 0.18967039,\n",
              "       0.17760447, 0.16848146, 0.16789288, 0.17525015, 0.18231313,\n",
              "       0.18922896, 0.1990877 , 0.20997646, 0.216598  , 0.22233667,\n",
              "       0.23925839, 0.24970571, 0.26162448, 0.27545615, 0.28310771,\n",
              "       0.29752796, 0.30694526, 0.31636257, 0.32298411, 0.3281342 ,\n",
              "       0.32960565, 0.32886992, 0.32857563, 0.32592702, 0.32357269,\n",
              "       0.32371984, 0.32401413, 0.32357269, 0.32283696, 0.32062978,\n",
              "       0.31047675, 0.30591524, 0.30297234, 0.30047087, 0.30076516,\n",
              "       0.30459094, 0.32636845, 0.33740436, 0.33814008, 0.3472631 ,\n",
              "       0.35388464, 0.37007063, 0.39037669, 0.4011183 , 0.4108299 ,\n",
              "       0.41745144, 0.41877575, 0.41774573, 0.41671572, 0.41862861,\n",
              "       0.42907593, 0.43569747, 0.44158328, 0.44158328, 0.43878752,\n",
              "       0.43349029, 0.43393172, 0.44791054, 0.45659211, 0.46718658,\n",
              "       0.47380812, 0.48101825, 0.48396115, 0.48602119, 0.49146557,\n",
              "       0.50559152, 0.51927604, 0.53104768, 0.54193643, 0.57018835,\n",
              "       0.59711595, 0.61536198, 0.62757504, 0.63978811, 0.65082401,\n",
              "       0.65670983, 0.66318423, 0.66553855, 0.66494997, 0.62831077,\n",
              "       0.60108888, 0.5843143 , 0.55929959, 0.55635668, 0.5590053 ,\n",
              "       0.56415539, 0.5635668 , 0.53855209, 0.52442613, 0.51854032,\n",
              "       0.48307828, 0.41862861, 0.35918187, 0.34123014, 0.31901118,\n",
              "       0.30341377, 0.27339612, 0.25397293, 0.23469688, 0.21865803,\n",
              "       0.20306062, 0.19320188, 0.16494997, 0.17377869, 0.17628016,\n",
              "       0.19437905, 0.2052678 , 0.22174809, 0.2341083 , 0.23719835,\n",
              "       0.23646263, 0.23454974, 0.23469688, 0.23469688, 0.25220718,\n",
              "       0.28708064, 0.29281931, 0.30032372, 0.30782813, 0.31474397,\n",
              "       0.32931136, 0.34329017, 0.36330194, 0.37051207, 0.38816951,\n",
              "       0.40862272, 0.42083579, 0.42804591, 0.43201883, 0.42039435,\n",
              "       0.41215421, 0.41141848, 0.41421424, 0.42377869, 0.4377575 ,\n",
              "       0.44864626, 0.45467922, 0.48028252, 0.47410241, 0.46718658,\n",
              "       0.45953502, 0.45114773, 0.44879341, 0.45423779, 0.47895821,\n",
              "       0.48881695, 0.49867569, 0.50426722, 0.50794585, 0.50882872,\n",
              "       0.50662154, 0.50456151, 0.48940553, 0.4889641 , 0.51692172,\n",
              "       0.53722778, 0.55017657, 0.5541495 , 0.55473808, 0.55532666,\n",
              "       0.55444379, 0.54958799, 0.5622425 , 0.58122425, 0.60697469,\n",
              "       0.62360212, 0.63375515, 0.66333137, 0.67289582, 0.68187169,\n",
              "       0.68834609, 0.69114185, 0.69305474, 0.69290759, 0.67274868,\n",
              "       0.65229547, 0.64729253, 0.64243673, 0.64140671, 0.64258387,\n",
              "       0.64302531, 0.63537375, 0.6274279 , 0.62389641, 0.62242496,\n",
              "       0.62007063, 0.61992348, 0.60962331, 0.59991171, 0.59417304,\n",
              "       0.59520306, 0.60108888, 0.60594467, 0.61506769, 0.62639788,\n",
              "       0.63375515, 0.64052384, 0.64699823, 0.65420836, 0.65612125,\n",
              "       0.65891701, 0.66215421, 0.68172454, 0.69849912, 0.70776928,\n",
              "       0.7243967 , 0.7451442 , 0.78266627, 0.78958211, 0.79664509,\n",
              "       0.79958799, 0.8009123 , 0.80223661, 0.80503237, 0.816804  ,\n",
              "       0.83975868, 0.85300177, 0.86668629, 0.85682755, 0.86227192,\n",
              "       0.87507357, 0.89537964, 0.90361978, 0.91347852, 0.92466157,\n",
              "       0.91509712, 0.9108299 , 0.90288405, 0.90361978, 0.90715127,\n",
              "       0.90965274, 0.89243673, 0.87139494, 0.88243084, 0.89405533,\n",
              "       0.90420836, 0.91024132, 0.91597999, 0.90847557, 0.88802237,\n",
              "       0.88449088, 0.88890524, 0.89449676, 0.90038258, 0.90406121,\n",
              "       0.89479105, 0.88669806, 0.88699235, 0.88949382, 0.89052384,\n",
              "       0.88581519, 0.87507357, 0.87065921, 0.86756916, 0.86183049,\n",
              "       0.85815185, 0.85756327, 0.85638611, 0.85623896, 0.86035903,\n",
              "       0.8693349 , 0.87566215, 0.88125368, 0.88346086, 0.89302531,\n",
              "       0.89758682, 0.91230135, 0.9283402 , 0.93716892, 0.95276633,\n",
              "       0.96041789, 0.98263685, 0.99705709, 1.        , 0.99396704,\n",
              "       0.98278399, 0.97012949, 0.94290759, 0.90582696, 0.8852266 ,\n",
              "       0.8806651 , 0.87492643, 0.850206  , 0.84373161, 0.82828134,\n",
              "       0.83652148, 0.84284873, 0.8534432 , 0.86183049, 0.87080636,\n",
              "       0.88375515, 0.90509123, 0.92539729, 0.93908181, 0.95203061,\n",
              "       0.95953502, 0.96130077, 0.94496763, 0.94217187, 0.94379046,\n",
              "       0.94290759, 0.92363155, 0.91553855, 0.89582107, 0.88802237,\n",
              "       0.88537375, 0.86580341, 0.85844614, 0.85005886, 0.84961742,\n",
              "       0.84917599, 0.84829311, 0.85035315, 0.8534432 , 0.86433196,\n",
              "       0.88537375, 0.9027369 , 0.9218658 , 0.94599765, 0.96027075,\n",
              "       0.96806945, 0.93246027, 0.92525015, 0.9283402 , 0.92848735,\n",
              "       0.92554444, 0.90450265, 0.88949382, 0.87124779, 0.86683343,\n",
              "       0.86756916, 0.87448499, 0.88037081, 0.88419659, 0.88655091,\n",
              "       0.88743378, 0.87154208, 0.87639788, 0.89376104])"
            ]
          },
          "metadata": {},
          "execution_count": 17
        }
      ]
    },
    {
      "cell_type": "code",
      "source": [
        "print(X_train.shape), print(y_train.shape)"
      ],
      "metadata": {
        "colab": {
          "base_uri": "https://localhost:8080/"
        },
        "id": "pwK3W1VRnaX_",
        "outputId": "5718bb16-f922-48c6-d9c2-e3b34e8402ac"
      },
      "execution_count": 18,
      "outputs": [
        {
          "output_type": "stream",
          "name": "stdout",
          "text": [
            "(424, 100)\n",
            "(424,)\n"
          ]
        },
        {
          "output_type": "execute_result",
          "data": {
            "text/plain": [
              "(None, None)"
            ]
          },
          "metadata": {},
          "execution_count": 18
        }
      ]
    },
    {
      "cell_type": "markdown",
      "source": [
        "**LSTM**"
      ],
      "metadata": {
        "id": "qQbySDmknkFY"
      }
    },
    {
      "cell_type": "code",
      "source": [
        "X_train =X_train.reshape(X_train.shape[0],X_train.shape[1] , 1)\n",
        "X_test = X_test.reshape(X_test.shape[0],X_test.shape[1] , 1)"
      ],
      "metadata": {
        "id": "Mep4A9CInlXn"
      },
      "execution_count": 19,
      "outputs": []
    },
    {
      "cell_type": "code",
      "source": [
        "from tensorflow.keras.models import Sequential\n",
        "\n",
        "from tensorflow.keras.layers import Dense\n",
        "from tensorflow.keras.layers import LSTM\n",
        "model=Sequential()\n",
        "model.add(LSTM(50,return_sequences=True,input_shape=(100,1)))\n",
        "model.add(LSTM(50,return_sequences=True))\n",
        "model.add(LSTM(50))\n",
        "model.add(Dense(1))\n",
        "model.compile(loss='mean_squared_error',optimizer='adam')"
      ],
      "metadata": {
        "id": "iXX7SQDwnjK4"
      },
      "execution_count": 20,
      "outputs": []
    },
    {
      "cell_type": "code",
      "source": [
        "model.fit(X_train,y_train,validation_data=(X_test,ytest),epochs=100,batch_size=64,verbose=1)"
      ],
      "metadata": {
        "colab": {
          "base_uri": "https://localhost:8080/"
        },
        "id": "Qok6oSsjnxJA",
        "outputId": "10323efb-1b75-43a7-ff2b-be32f08b76e8"
      },
      "execution_count": 21,
      "outputs": [
        {
          "output_type": "stream",
          "name": "stdout",
          "text": [
            "Epoch 1/100\n",
            "7/7 [==============================] - 9s 403ms/step - loss: 0.1582 - val_loss: 0.0931\n",
            "Epoch 2/100\n",
            "7/7 [==============================] - 1s 193ms/step - loss: 0.0328 - val_loss: 0.0272\n",
            "Epoch 3/100\n",
            "7/7 [==============================] - 1s 192ms/step - loss: 0.0242 - val_loss: 0.0053\n",
            "Epoch 4/100\n",
            "7/7 [==============================] - 1s 191ms/step - loss: 0.0146 - val_loss: 0.0061\n",
            "Epoch 5/100\n",
            "7/7 [==============================] - 1s 191ms/step - loss: 0.0107 - val_loss: 0.0055\n",
            "Epoch 6/100\n",
            "7/7 [==============================] - 1s 191ms/step - loss: 0.0083 - val_loss: 0.0067\n",
            "Epoch 7/100\n",
            "7/7 [==============================] - 1s 195ms/step - loss: 0.0076 - val_loss: 0.0034\n",
            "Epoch 8/100\n",
            "7/7 [==============================] - 1s 194ms/step - loss: 0.0067 - val_loss: 0.0037\n",
            "Epoch 9/100\n",
            "7/7 [==============================] - 1s 194ms/step - loss: 0.0062 - val_loss: 0.0032\n",
            "Epoch 10/100\n",
            "7/7 [==============================] - 1s 191ms/step - loss: 0.0063 - val_loss: 0.0035\n",
            "Epoch 11/100\n",
            "7/7 [==============================] - 1s 192ms/step - loss: 0.0062 - val_loss: 0.0031\n",
            "Epoch 12/100\n",
            "7/7 [==============================] - 1s 194ms/step - loss: 0.0059 - val_loss: 0.0032\n",
            "Epoch 13/100\n",
            "7/7 [==============================] - 1s 192ms/step - loss: 0.0057 - val_loss: 0.0029\n",
            "Epoch 14/100\n",
            "7/7 [==============================] - 1s 195ms/step - loss: 0.0056 - val_loss: 0.0032\n",
            "Epoch 15/100\n",
            "7/7 [==============================] - 1s 193ms/step - loss: 0.0055 - val_loss: 0.0028\n",
            "Epoch 16/100\n",
            "7/7 [==============================] - 1s 196ms/step - loss: 0.0053 - val_loss: 0.0028\n",
            "Epoch 17/100\n",
            "7/7 [==============================] - 1s 195ms/step - loss: 0.0051 - val_loss: 0.0034\n",
            "Epoch 18/100\n",
            "7/7 [==============================] - 1s 191ms/step - loss: 0.0049 - val_loss: 0.0027\n",
            "Epoch 19/100\n",
            "7/7 [==============================] - 1s 217ms/step - loss: 0.0048 - val_loss: 0.0026\n",
            "Epoch 20/100\n",
            "7/7 [==============================] - 2s 333ms/step - loss: 0.0045 - val_loss: 0.0024\n",
            "Epoch 21/100\n",
            "7/7 [==============================] - 2s 226ms/step - loss: 0.0043 - val_loss: 0.0023\n",
            "Epoch 22/100\n",
            "7/7 [==============================] - 2s 315ms/step - loss: 0.0041 - val_loss: 0.0022\n",
            "Epoch 23/100\n",
            "7/7 [==============================] - 1s 194ms/step - loss: 0.0040 - val_loss: 0.0022\n",
            "Epoch 24/100\n",
            "7/7 [==============================] - 1s 196ms/step - loss: 0.0038 - val_loss: 0.0020\n",
            "Epoch 25/100\n",
            "7/7 [==============================] - 1s 194ms/step - loss: 0.0036 - val_loss: 0.0019\n",
            "Epoch 26/100\n",
            "7/7 [==============================] - 1s 194ms/step - loss: 0.0037 - val_loss: 0.0018\n",
            "Epoch 27/100\n",
            "7/7 [==============================] - 1s 191ms/step - loss: 0.0033 - val_loss: 0.0018\n",
            "Epoch 28/100\n",
            "7/7 [==============================] - 1s 196ms/step - loss: 0.0032 - val_loss: 0.0017\n",
            "Epoch 29/100\n",
            "7/7 [==============================] - 1s 195ms/step - loss: 0.0030 - val_loss: 0.0016\n",
            "Epoch 30/100\n",
            "7/7 [==============================] - 1s 196ms/step - loss: 0.0028 - val_loss: 0.0016\n",
            "Epoch 31/100\n",
            "7/7 [==============================] - 1s 200ms/step - loss: 0.0029 - val_loss: 0.0015\n",
            "Epoch 32/100\n",
            "7/7 [==============================] - 2s 326ms/step - loss: 0.0027 - val_loss: 0.0018\n",
            "Epoch 33/100\n",
            "7/7 [==============================] - 2s 300ms/step - loss: 0.0030 - val_loss: 0.0015\n",
            "Epoch 34/100\n",
            "7/7 [==============================] - 2s 332ms/step - loss: 0.0024 - val_loss: 0.0017\n",
            "Epoch 35/100\n",
            "7/7 [==============================] - 2s 346ms/step - loss: 0.0025 - val_loss: 0.0015\n",
            "Epoch 36/100\n",
            "7/7 [==============================] - 1s 197ms/step - loss: 0.0023 - val_loss: 0.0016\n",
            "Epoch 37/100\n",
            "7/7 [==============================] - 1s 196ms/step - loss: 0.0022 - val_loss: 0.0016\n",
            "Epoch 38/100\n",
            "7/7 [==============================] - 1s 196ms/step - loss: 0.0022 - val_loss: 0.0016\n",
            "Epoch 39/100\n",
            "7/7 [==============================] - 1s 194ms/step - loss: 0.0021 - val_loss: 0.0017\n",
            "Epoch 40/100\n",
            "7/7 [==============================] - 1s 194ms/step - loss: 0.0021 - val_loss: 0.0017\n",
            "Epoch 41/100\n",
            "7/7 [==============================] - 1s 195ms/step - loss: 0.0021 - val_loss: 0.0023\n",
            "Epoch 42/100\n",
            "7/7 [==============================] - 1s 194ms/step - loss: 0.0023 - val_loss: 0.0024\n",
            "Epoch 43/100\n",
            "7/7 [==============================] - 1s 198ms/step - loss: 0.0022 - val_loss: 0.0018\n",
            "Epoch 44/100\n",
            "7/7 [==============================] - 2s 223ms/step - loss: 0.0020 - val_loss: 0.0015\n",
            "Epoch 45/100\n",
            "7/7 [==============================] - 2s 345ms/step - loss: 0.0020 - val_loss: 0.0016\n",
            "Epoch 46/100\n",
            "7/7 [==============================] - 2s 318ms/step - loss: 0.0018 - val_loss: 0.0018\n",
            "Epoch 47/100\n",
            "7/7 [==============================] - 2s 323ms/step - loss: 0.0018 - val_loss: 0.0015\n",
            "Epoch 48/100\n",
            "7/7 [==============================] - 1s 192ms/step - loss: 0.0017 - val_loss: 0.0015\n",
            "Epoch 49/100\n",
            "7/7 [==============================] - 1s 196ms/step - loss: 0.0017 - val_loss: 0.0019\n",
            "Epoch 50/100\n",
            "7/7 [==============================] - 1s 193ms/step - loss: 0.0017 - val_loss: 0.0014\n",
            "Epoch 51/100\n",
            "7/7 [==============================] - 1s 201ms/step - loss: 0.0017 - val_loss: 0.0015\n",
            "Epoch 52/100\n",
            "7/7 [==============================] - 1s 200ms/step - loss: 0.0017 - val_loss: 0.0015\n",
            "Epoch 53/100\n",
            "7/7 [==============================] - 1s 194ms/step - loss: 0.0016 - val_loss: 0.0019\n",
            "Epoch 54/100\n",
            "7/7 [==============================] - 1s 198ms/step - loss: 0.0017 - val_loss: 0.0013\n",
            "Epoch 55/100\n",
            "7/7 [==============================] - 1s 197ms/step - loss: 0.0015 - val_loss: 0.0015\n",
            "Epoch 56/100\n",
            "7/7 [==============================] - 1s 197ms/step - loss: 0.0015 - val_loss: 0.0017\n",
            "Epoch 57/100\n",
            "7/7 [==============================] - 1s 198ms/step - loss: 0.0016 - val_loss: 0.0019\n",
            "Epoch 58/100\n",
            "7/7 [==============================] - 1s 198ms/step - loss: 0.0016 - val_loss: 0.0019\n",
            "Epoch 59/100\n",
            "7/7 [==============================] - 1s 196ms/step - loss: 0.0016 - val_loss: 0.0014\n",
            "Epoch 60/100\n",
            "7/7 [==============================] - 1s 201ms/step - loss: 0.0014 - val_loss: 0.0012\n",
            "Epoch 61/100\n",
            "7/7 [==============================] - 1s 195ms/step - loss: 0.0013 - val_loss: 0.0012\n",
            "Epoch 62/100\n",
            "7/7 [==============================] - 1s 196ms/step - loss: 0.0013 - val_loss: 0.0012\n",
            "Epoch 63/100\n",
            "7/7 [==============================] - 1s 200ms/step - loss: 0.0013 - val_loss: 0.0016\n",
            "Epoch 64/100\n",
            "7/7 [==============================] - 1s 204ms/step - loss: 0.0012 - val_loss: 0.0013\n",
            "Epoch 65/100\n",
            "7/7 [==============================] - 1s 198ms/step - loss: 0.0012 - val_loss: 0.0013\n",
            "Epoch 66/100\n",
            "7/7 [==============================] - 1s 205ms/step - loss: 0.0012 - val_loss: 0.0013\n",
            "Epoch 67/100\n",
            "7/7 [==============================] - 2s 223ms/step - loss: 0.0012 - val_loss: 0.0013\n",
            "Epoch 68/100\n",
            "7/7 [==============================] - 2s 328ms/step - loss: 0.0011 - val_loss: 0.0013\n",
            "Epoch 69/100\n",
            "7/7 [==============================] - 2s 266ms/step - loss: 0.0011 - val_loss: 0.0014\n",
            "Epoch 70/100\n",
            "7/7 [==============================] - 1s 192ms/step - loss: 0.0011 - val_loss: 0.0012\n",
            "Epoch 71/100\n",
            "7/7 [==============================] - 1s 195ms/step - loss: 0.0011 - val_loss: 0.0010\n",
            "Epoch 72/100\n",
            "7/7 [==============================] - 1s 198ms/step - loss: 0.0011 - val_loss: 0.0014\n",
            "Epoch 73/100\n",
            "7/7 [==============================] - 1s 195ms/step - loss: 0.0010 - val_loss: 0.0016\n",
            "Epoch 74/100\n",
            "7/7 [==============================] - 1s 198ms/step - loss: 0.0011 - val_loss: 0.0013\n",
            "Epoch 75/100\n",
            "7/7 [==============================] - 1s 195ms/step - loss: 9.9014e-04 - val_loss: 0.0012\n",
            "Epoch 76/100\n",
            "7/7 [==============================] - 1s 193ms/step - loss: 9.8457e-04 - val_loss: 0.0011\n",
            "Epoch 77/100\n",
            "7/7 [==============================] - 1s 193ms/step - loss: 9.9390e-04 - val_loss: 0.0014\n",
            "Epoch 78/100\n",
            "7/7 [==============================] - 1s 195ms/step - loss: 9.6253e-04 - val_loss: 0.0013\n",
            "Epoch 79/100\n",
            "7/7 [==============================] - 1s 195ms/step - loss: 9.1274e-04 - val_loss: 0.0013\n",
            "Epoch 80/100\n",
            "7/7 [==============================] - 2s 246ms/step - loss: 9.7519e-04 - val_loss: 0.0012\n",
            "Epoch 81/100\n",
            "7/7 [==============================] - 2s 337ms/step - loss: 8.9424e-04 - val_loss: 0.0011\n",
            "Epoch 82/100\n",
            "7/7 [==============================] - 2s 210ms/step - loss: 9.7098e-04 - val_loss: 0.0010\n",
            "Epoch 83/100\n",
            "7/7 [==============================] - 2s 328ms/step - loss: 9.4731e-04 - val_loss: 0.0012\n",
            "Epoch 84/100\n",
            "7/7 [==============================] - 2s 241ms/step - loss: 8.9185e-04 - val_loss: 0.0012\n",
            "Epoch 85/100\n",
            "7/7 [==============================] - 1s 192ms/step - loss: 8.8928e-04 - val_loss: 0.0011\n",
            "Epoch 86/100\n",
            "7/7 [==============================] - 1s 199ms/step - loss: 8.9555e-04 - val_loss: 0.0017\n",
            "Epoch 87/100\n",
            "7/7 [==============================] - 1s 197ms/step - loss: 9.4163e-04 - val_loss: 0.0011\n",
            "Epoch 88/100\n",
            "7/7 [==============================] - 1s 194ms/step - loss: 8.7240e-04 - val_loss: 0.0011\n",
            "Epoch 89/100\n",
            "7/7 [==============================] - 1s 197ms/step - loss: 9.7206e-04 - val_loss: 0.0017\n",
            "Epoch 90/100\n",
            "7/7 [==============================] - 1s 196ms/step - loss: 0.0010 - val_loss: 9.9973e-04\n",
            "Epoch 91/100\n",
            "7/7 [==============================] - 1s 192ms/step - loss: 8.9987e-04 - val_loss: 0.0011\n",
            "Epoch 92/100\n",
            "7/7 [==============================] - 1s 196ms/step - loss: 8.4212e-04 - val_loss: 0.0011\n",
            "Epoch 93/100\n",
            "7/7 [==============================] - 2s 332ms/step - loss: 8.5060e-04 - val_loss: 0.0014\n",
            "Epoch 94/100\n",
            "7/7 [==============================] - 2s 338ms/step - loss: 8.7857e-04 - val_loss: 0.0012\n",
            "Epoch 95/100\n",
            "7/7 [==============================] - 1s 200ms/step - loss: 8.0998e-04 - val_loss: 0.0013\n",
            "Epoch 96/100\n",
            "7/7 [==============================] - 1s 197ms/step - loss: 7.9710e-04 - val_loss: 0.0010\n",
            "Epoch 97/100\n",
            "7/7 [==============================] - 1s 195ms/step - loss: 7.9807e-04 - val_loss: 0.0012\n",
            "Epoch 98/100\n",
            "7/7 [==============================] - 1s 205ms/step - loss: 8.2851e-04 - val_loss: 0.0010\n",
            "Epoch 99/100\n",
            "7/7 [==============================] - 2s 352ms/step - loss: 7.9464e-04 - val_loss: 0.0012\n",
            "Epoch 100/100\n",
            "7/7 [==============================] - 2s 306ms/step - loss: 8.3158e-04 - val_loss: 0.0012\n"
          ]
        },
        {
          "output_type": "execute_result",
          "data": {
            "text/plain": [
              "<keras.callbacks.History at 0x7fe209c1ad10>"
            ]
          },
          "metadata": {},
          "execution_count": 21
        }
      ]
    },
    {
      "cell_type": "code",
      "source": [
        "### Lets Do the prediction and check performance metrics\n",
        "train_predict=model.predict(X_train)\n",
        "test_predict=model.predict(X_test)"
      ],
      "metadata": {
        "id": "-oLV9AUZn17o"
      },
      "execution_count": 22,
      "outputs": []
    },
    {
      "cell_type": "code",
      "source": [
        "##Transformback to original form\n",
        "train_predict=scaler.inverse_transform(train_predict)\n",
        "test_predict=scaler.inverse_transform(test_predict)"
      ],
      "metadata": {
        "id": "1WlWpe6dn-AH"
      },
      "execution_count": 23,
      "outputs": []
    },
    {
      "cell_type": "code",
      "source": [
        "### Plotting \n",
        "# shift train predictions for plotting\n",
        "look_back=100\n",
        "trainPredictPlot = numpy.empty_like(df4)\n",
        "trainPredictPlot[:, :] = np.nan\n",
        "trainPredictPlot[look_back:len(train_predict)+look_back, :] = train_predict\n",
        "# shift test predictions for plotting\n",
        "testPredictPlot = numpy.empty_like(df4)\n",
        "testPredictPlot[:, :] = numpy.nan\n",
        "testPredictPlot[len(train_predict)+(look_back*2)+1:len(df4)-1, :] = test_predict\n",
        "# plot baseline and predictions\n",
        "plt.plot(scaler.inverse_transform(df4))\n",
        "plt.plot(trainPredictPlot)\n",
        "plt.plot(testPredictPlot)\n",
        "plt.show()"
      ],
      "metadata": {
        "colab": {
          "base_uri": "https://localhost:8080/",
          "height": 265
        },
        "id": "DPt5gjYhoCcA",
        "outputId": "706757e7-66f3-467c-b341-4a8db7dfd743"
      },
      "execution_count": 24,
      "outputs": [
        {
          "output_type": "display_data",
          "data": {
            "text/plain": [
              "<Figure size 432x288 with 1 Axes>"
            ],
            "image/png": "[encoded data removed]"
          },
          "metadata": {
            "needs_background": "light"
          }
        }
      ]
    },
    {
      "cell_type": "code",
      "source": [
        "df_test=pd.read_csv(\"/content/drive/MyDrive/data/test_data_petrol.csv\")\n",
        "df_test.head()"
      ],
      "metadata": {
        "colab": {
          "base_uri": "https://localhost:8080/",
          "height": 206
        },
        "id": "0YVGdi9JoHmA",
        "outputId": "e062b929-9c95-4338-8f65-5c34f02b7aab"
      },
      "execution_count": 26,
      "outputs": [
        {
          "output_type": "execute_result",
          "data": {
            "text/plain": [
              "       Date  Prediction\n",
              "0  1/1/2019         NaN\n",
              "1  1/2/2019         NaN\n",
              "2  1/3/2019         NaN\n",
              "3  1/4/2019         NaN\n",
              "4  1/5/2019         NaN"
            ],
            "text/html": [
              "\n",
              "  <div id=\"df-cf53da86-2d65-4e45-bab0-d4c7b08d7208\">\n",
              "    <div class=\"colab-df-container\">\n",
              "      <div>\n",
              "<style scoped>\n",
              "    .dataframe tbody tr th:only-of-type {\n",
              "        vertical-align: middle;\n",
              "    }\n",
              "\n",
              "    .dataframe tbody tr th {\n",
              "        vertical-align: top;\n",
              "    }\n",
              "\n",
              "    .dataframe thead th {\n",
              "        text-align: right;\n",
              "    }\n",
              "</style>\n",
              "<table border=\"1\" class=\"dataframe\">\n",
              "  <thead>\n",
              "    <tr style=\"text-align: right;\">\n",
              "      <th></th>\n",
              "      <th>Date</th>\n",
              "      <th>Prediction</th>\n",
              "    </tr>\n",
              "  </thead>\n",
              "  <tbody>\n",
              "    <tr>\n",
              "      <th>0</th>\n",
              "      <td>1/1/2019</td>\n",
              "      <td>NaN</td>\n",
              "    </tr>\n",
              "    <tr>\n",
              "      <th>1</th>\n",
              "      <td>1/2/2019</td>\n",
              "      <td>NaN</td>\n",
              "    </tr>\n",
              "    <tr>\n",
              "      <th>2</th>\n",
              "      <td>1/3/2019</td>\n",
              "      <td>NaN</td>\n",
              "    </tr>\n",
              "    <tr>\n",
              "      <th>3</th>\n",
              "      <td>1/4/2019</td>\n",
              "      <td>NaN</td>\n",
              "    </tr>\n",
              "    <tr>\n",
              "      <th>4</th>\n",
              "      <td>1/5/2019</td>\n",
              "      <td>NaN</td>\n",
              "    </tr>\n",
              "  </tbody>\n",
              "</table>\n",
              "</div>\n",
              "      <button class=\"colab-df-convert\" onclick=\"convertToInteractive('df-cf53da86-2d65-4e45-bab0-d4c7b08d7208')\"\n",
              "              title=\"Convert this dataframe to an interactive table.\"\n",
              "              style=\"display:none;\">\n",
              "        \n",
              "  <svg xmlns=\"http://www.w3.org/2000/svg\" height=\"24px\"viewBox=\"0 0 24 24\"\n",
              "       width=\"24px\">\n",
              "    <path d=\"M0 0h24v24H0V0z\" fill=\"none\"/>\n",
              "    <path d=\"M18.56 5.44l.94 2.06.94-2.06 2.06-.94-2.06-.94-.94-2.06-.94 2.06-2.06.94zm-11 1L8.5 8.5l.94-2.06 2.06-.94-2.06-.94L8.5 2.5l-.94 2.06-2.06.94zm10 10l.94 2.06.94-2.06 2.06-.94-2.06-.94-.94-2.06-.94 2.06-2.06.94z\"/><path d=\"M17.41 7.96l-1.37-1.37c-.4-.4-.92-.59-1.43-.59-.52 0-1.04.2-1.43.59L10.3 9.45l-7.72 7.72c-.78.78-.78 2.05 0 2.83L4 21.41c.39.39.9.59 1.41.59.51 0 1.02-.2 1.41-.59l7.78-7.78 2.81-2.81c.8-.78.8-2.07 0-2.86zM5.41 20L4 18.59l7.72-7.72 1.47 1.35L5.41 20z\"/>\n",
              "  </svg>\n",
              "      </button>\n",
              "      \n",
              "  <style>\n",
              "    .colab-df-container {\n",
              "      display:flex;\n",
              "      flex-wrap:wrap;\n",
              "      gap: 12px;\n",
              "    }\n",
              "\n",
              "    .colab-df-convert {\n",
              "      background-color: #E8F0FE;\n",
              "      border: none;\n",
              "      border-radius: 50%;\n",
              "      cursor: pointer;\n",
              "      display: none;\n",
              "      fill: #1967D2;\n",
              "      height: 32px;\n",
              "      padding: 0 0 0 0;\n",
              "      width: 32px;\n",
              "    }\n",
              "\n",
              "    .colab-df-convert:hover {\n",
              "      background-color: #E2EBFA;\n",
              "      box-shadow: 0px 1px 2px rgba(60, 64, 67, 0.3), 0px 1px 3px 1px rgba(60, 64, 67, 0.15);\n",
              "      fill: #174EA6;\n",
              "    }\n",
              "\n",
              "    [theme=dark] .colab-df-convert {\n",
              "      background-color: #3B4455;\n",
              "      fill: #D2E3FC;\n",
              "    }\n",
              "\n",
              "    [theme=dark] .colab-df-convert:hover {\n",
              "      background-color: #434B5C;\n",
              "      box-shadow: 0px 1px 3px 1px rgba(0, 0, 0, 0.15);\n",
              "      filter: drop-shadow(0px 1px 2px rgba(0, 0, 0, 0.3));\n",
              "      fill: #FFFFFF;\n",
              "    }\n",
              "  </style>\n",
              "\n",
              "      <script>\n",
              "        const buttonEl =\n",
              "          document.querySelector('#df-cf53da86-2d65-4e45-bab0-d4c7b08d7208 button.colab-df-convert');\n",
              "        buttonEl.style.display =\n",
              "          google.colab.kernel.accessAllowed ? 'block' : 'none';\n",
              "\n",
              "        async function convertToInteractive(key) {\n",
              "          const element = document.querySelector('#df-cf53da86-2d65-4e45-bab0-d4c7b08d7208');\n",
              "          const dataTable =\n",
              "            await google.colab.kernel.invokeFunction('convertToInteractive',\n",
              "                                                     [key], {});\n",
              "          if (!dataTable) return;\n",
              "\n",
              "          const docLinkHtml = 'Like what you see? Visit the ' +\n",
              "            '<a target=\"_blank\" href=https://colab.research.google.com/notebooks/data_table.ipynb>data table notebook</a>'\n",
              "            + ' to learn more about interactive tables.';\n",
              "          element.innerHTML = '';\n",
              "          dataTable['output_type'] = 'display_data';\n",
              "          await google.colab.output.renderOutput(dataTable, element);\n",
              "          const docLink = document.createElement('div');\n",
              "          docLink.innerHTML = docLinkHtml;\n",
              "          element.appendChild(docLink);\n",
              "        }\n",
              "      </script>\n",
              "    </div>\n",
              "  </div>\n",
              "  "
            ]
          },
          "metadata": {},
          "execution_count": 26
        }
      ]
    },
    {
      "cell_type": "code",
      "source": [
        "model.save(\"prtrol price prediction\")"
      ],
      "metadata": {
        "colab": {
          "base_uri": "https://localhost:8080/"
        },
        "id": "WYAx86kVnfIf",
        "outputId": "537ebfe1-7004-481d-9300-11cbe19f83e3"
      },
      "execution_count": 27,
      "outputs": [
        {
          "output_type": "stream",
          "name": "stderr",
          "text": [
            "WARNING:absl:Found untraced functions such as lstm_cell_layer_call_fn, lstm_cell_layer_call_and_return_conditional_losses, lstm_cell_1_layer_call_fn, lstm_cell_1_layer_call_and_return_conditional_losses, lstm_cell_2_layer_call_fn while saving (showing 5 of 6). These functions will not be directly callable after loading.\n"
          ]
        },
        {
          "output_type": "stream",
          "name": "stdout",
          "text": [
            "INFO:tensorflow:Assets written to: prtrol price prediction/assets\n"
          ]
        },
        {
          "output_type": "stream",
          "name": "stderr",
          "text": [
            "INFO:tensorflow:Assets written to: prtrol price prediction/assets\n",
            "WARNING:absl:<keras.layers.recurrent.LSTMCell object at 0x7fe20d340950> has the same name 'LSTMCell' as a built-in Keras object. Consider renaming <class 'keras.layers.recurrent.LSTMCell'> to avoid naming conflicts when loading with `tf.keras.models.load_model`. If renaming is not possible, pass the object in the `custom_objects` parameter of the load function.\n",
            "WARNING:absl:<keras.layers.recurrent.LSTMCell object at 0x7fe209e3e1d0> has the same name 'LSTMCell' as a built-in Keras object. Consider renaming <class 'keras.layers.recurrent.LSTMCell'> to avoid naming conflicts when loading with `tf.keras.models.load_model`. If renaming is not possible, pass the object in the `custom_objects` parameter of the load function.\n",
            "WARNING:absl:<keras.layers.recurrent.LSTMCell object at 0x7fe209d05c10> has the same name 'LSTMCell' as a built-in Keras object. Consider renaming <class 'keras.layers.recurrent.LSTMCell'> to avoid naming conflicts when loading with `tf.keras.models.load_model`. If renaming is not possible, pass the object in the `custom_objects` parameter of the load function.\n"
          ]
        }
      ]
    },
    {
      "cell_type": "markdown",
      "source": [
        "**Using ARIMA**"
      ],
      "metadata": {
        "id": "JYE7sbINoU3_"
      }
    },
    {
      "cell_type": "code",
      "source": [
        "!pip install --upgrade patsy"
      ],
      "metadata": {
        "colab": {
          "base_uri": "https://localhost:8080/"
        },
        "id": "WkGkbSKBoYhW",
        "outputId": "a7b4cd97-d57a-4a63-d19b-d9170efa2640"
      },
      "execution_count": 28,
      "outputs": [
        {
          "output_type": "stream",
          "name": "stdout",
          "text": [
            "Looking in indexes: https://pypi.org/simple, https://us-python.pkg.dev/colab-wheels/public/simple/\n",
            "Requirement already satisfied: patsy in /usr/local/lib/python3.7/dist-packages (0.5.2)\n",
            "Requirement already satisfied: numpy>=1.4 in /usr/local/lib/python3.7/dist-packages (from patsy) (1.21.6)\n",
            "Requirement already satisfied: six in /usr/local/lib/python3.7/dist-packages (from patsy) (1.15.0)\n"
          ]
        }
      ]
    },
    {
      "cell_type": "code",
      "source": [
        "!pip install statsmodels"
      ],
      "metadata": {
        "colab": {
          "base_uri": "https://localhost:8080/"
        },
        "id": "o8wOo2EiobwV",
        "outputId": "60e4c144-196f-40ef-9f98-8343800f6c21"
      },
      "execution_count": 29,
      "outputs": [
        {
          "output_type": "stream",
          "name": "stdout",
          "text": [
            "Looking in indexes: https://pypi.org/simple, https://us-python.pkg.dev/colab-wheels/public/simple/\n",
            "Requirement already satisfied: statsmodels in /usr/local/lib/python3.7/dist-packages (0.10.2)\n",
            "Requirement already satisfied: pandas>=0.19 in /usr/local/lib/python3.7/dist-packages (from statsmodels) (1.3.5)\n",
            "Requirement already satisfied: patsy>=0.4.0 in /usr/local/lib/python3.7/dist-packages (from statsmodels) (0.5.2)\n",
            "Requirement already satisfied: numpy>=1.11 in /usr/local/lib/python3.7/dist-packages (from statsmodels) (1.21.6)\n",
            "Requirement already satisfied: scipy>=0.18 in /usr/local/lib/python3.7/dist-packages (from statsmodels) (1.4.1)\n",
            "Requirement already satisfied: python-dateutil>=2.7.3 in /usr/local/lib/python3.7/dist-packages (from pandas>=0.19->statsmodels) (2.8.2)\n",
            "Requirement already satisfied: pytz>=2017.3 in /usr/local/lib/python3.7/dist-packages (from pandas>=0.19->statsmodels) (2022.1)\n",
            "Requirement already satisfied: six in /usr/local/lib/python3.7/dist-packages (from patsy>=0.4.0->statsmodels) (1.15.0)\n"
          ]
        }
      ]
    },
    {
      "cell_type": "code",
      "source": [
        "!pip install --upgrade --no-deps statsmodels"
      ],
      "metadata": {
        "colab": {
          "base_uri": "https://localhost:8080/"
        },
        "id": "4RDyFdTRoiJt",
        "outputId": "91c2ed09-afee-459d-e38c-c7a882009a64"
      },
      "execution_count": 30,
      "outputs": [
        {
          "output_type": "stream",
          "name": "stdout",
          "text": [
            "Looking in indexes: https://pypi.org/simple, https://us-python.pkg.dev/colab-wheels/public/simple/\n",
            "Requirement already satisfied: statsmodels in /usr/local/lib/python3.7/dist-packages (0.10.2)\n",
            "Collecting statsmodels\n",
            "  Downloading statsmodels-0.13.2-cp37-cp37m-manylinux_2_17_x86_64.manylinux2014_x86_64.whl (9.8 MB)\n",
            "\u001b[K     |████████████████████████████████| 9.8 MB 3.8 MB/s \n",
            "\u001b[?25hInstalling collected packages: statsmodels\n",
            "  Attempting uninstall: statsmodels\n",
            "    Found existing installation: statsmodels 0.10.2\n",
            "    Uninstalling statsmodels-0.10.2:\n",
            "      Successfully uninstalled statsmodels-0.10.2\n",
            "Successfully installed statsmodels-0.13.2\n"
          ]
        }
      ]
    },
    {
      "cell_type": "code",
      "source": [
        "import pandas as pd\n",
        "from statsmodels.tsa.arima.model import ARIMA\n",
        "from matplotlib import pyplot as plt\n",
        "from pandas import read_csv\n",
        "from pandas import datetime \n",
        "from matplotlib import pyplot\n",
        "\n",
        "from sklearn.metrics import mean_squared_error\n",
        "from math import sqrt"
      ],
      "metadata": {
        "colab": {
          "base_uri": "https://localhost:8080/"
        },
        "id": "3HqoHUnIojcE",
        "outputId": "cfcb26bf-8407-4510-d32f-96b901565e11"
      },
      "execution_count": 31,
      "outputs": [
        {
          "output_type": "stream",
          "name": "stderr",
          "text": [
            "/usr/local/lib/python3.7/dist-packages/ipykernel_launcher.py:5: FutureWarning: The pandas.datetime class is deprecated and will be removed from pandas in a future version. Import from datetime module instead.\n",
            "  \"\"\"\n"
          ]
        }
      ]
    },
    {
      "cell_type": "code",
      "source": [
        "df = pd.read_csv(\"/content/drive/MyDrive/data/train_data_petrol.csv\")\n",
        "df.head()"
      ],
      "metadata": {
        "colab": {
          "base_uri": "https://localhost:8080/",
          "height": 206
        },
        "id": "7DtU7ILCondw",
        "outputId": "74b6b649-8d99-4160-f423-a52870177d8c"
      },
      "execution_count": 34,
      "outputs": [
        {
          "output_type": "execute_result",
          "data": {
            "text/plain": [
              "        Date  Petrol (USD)\n",
              "0   6/9/2003         74.59\n",
              "1  6/16/2003         74.47\n",
              "2  6/23/2003         74.42\n",
              "3  6/30/2003         74.35\n",
              "4   7/7/2003         74.28"
            ],
            "text/html": [
              "\n",
              "  <div id=\"df-2f760dd4-168e-47c6-a649-cc9d187b0ad6\">\n",
              "    <div class=\"colab-df-container\">\n",
              "      <div>\n",
              "<style scoped>\n",
              "    .dataframe tbody tr th:only-of-type {\n",
              "        vertical-align: middle;\n",
              "    }\n",
              "\n",
              "    .dataframe tbody tr th {\n",
              "        vertical-align: top;\n",
              "    }\n",
              "\n",
              "    .dataframe thead th {\n",
              "        text-align: right;\n",
              "    }\n",
              "</style>\n",
              "<table border=\"1\" class=\"dataframe\">\n",
              "  <thead>\n",
              "    <tr style=\"text-align: right;\">\n",
              "      <th></th>\n",
              "      <th>Date</th>\n",
              "      <th>Petrol (USD)</th>\n",
              "    </tr>\n",
              "  </thead>\n",
              "  <tbody>\n",
              "    <tr>\n",
              "      <th>0</th>\n",
              "      <td>6/9/2003</td>\n",
              "      <td>74.59</td>\n",
              "    </tr>\n",
              "    <tr>\n",
              "      <th>1</th>\n",
              "      <td>6/16/2003</td>\n",
              "      <td>74.47</td>\n",
              "    </tr>\n",
              "    <tr>\n",
              "      <th>2</th>\n",
              "      <td>6/23/2003</td>\n",
              "      <td>74.42</td>\n",
              "    </tr>\n",
              "    <tr>\n",
              "      <th>3</th>\n",
              "      <td>6/30/2003</td>\n",
              "      <td>74.35</td>\n",
              "    </tr>\n",
              "    <tr>\n",
              "      <th>4</th>\n",
              "      <td>7/7/2003</td>\n",
              "      <td>74.28</td>\n",
              "    </tr>\n",
              "  </tbody>\n",
              "</table>\n",
              "</div>\n",
              "      <button class=\"colab-df-convert\" onclick=\"convertToInteractive('df-2f760dd4-168e-47c6-a649-cc9d187b0ad6')\"\n",
              "              title=\"Convert this dataframe to an interactive table.\"\n",
              "              style=\"display:none;\">\n",
              "        \n",
              "  <svg xmlns=\"http://www.w3.org/2000/svg\" height=\"24px\"viewBox=\"0 0 24 24\"\n",
              "       width=\"24px\">\n",
              "    <path d=\"M0 0h24v24H0V0z\" fill=\"none\"/>\n",
              "    <path d=\"M18.56 5.44l.94 2.06.94-2.06 2.06-.94-2.06-.94-.94-2.06-.94 2.06-2.06.94zm-11 1L8.5 8.5l.94-2.06 2.06-.94-2.06-.94L8.5 2.5l-.94 2.06-2.06.94zm10 10l.94 2.06.94-2.06 2.06-.94-2.06-.94-.94-2.06-.94 2.06-2.06.94z\"/><path d=\"M17.41 7.96l-1.37-1.37c-.4-.4-.92-.59-1.43-.59-.52 0-1.04.2-1.43.59L10.3 9.45l-7.72 7.72c-.78.78-.78 2.05 0 2.83L4 21.41c.39.39.9.59 1.41.59.51 0 1.02-.2 1.41-.59l7.78-7.78 2.81-2.81c.8-.78.8-2.07 0-2.86zM5.41 20L4 18.59l7.72-7.72 1.47 1.35L5.41 20z\"/>\n",
              "  </svg>\n",
              "      </button>\n",
              "      \n",
              "  <style>\n",
              "    .colab-df-container {\n",
              "      display:flex;\n",
              "      flex-wrap:wrap;\n",
              "      gap: 12px;\n",
              "    }\n",
              "\n",
              "    .colab-df-convert {\n",
              "      background-color: #E8F0FE;\n",
              "      border: none;\n",
              "      border-radius: 50%;\n",
              "      cursor: pointer;\n",
              "      display: none;\n",
              "      fill: #1967D2;\n",
              "      height: 32px;\n",
              "      padding: 0 0 0 0;\n",
              "      width: 32px;\n",
              "    }\n",
              "\n",
              "    .colab-df-convert:hover {\n",
              "      background-color: #E2EBFA;\n",
              "      box-shadow: 0px 1px 2px rgba(60, 64, 67, 0.3), 0px 1px 3px 1px rgba(60, 64, 67, 0.15);\n",
              "      fill: #174EA6;\n",
              "    }\n",
              "\n",
              "    [theme=dark] .colab-df-convert {\n",
              "      background-color: #3B4455;\n",
              "      fill: #D2E3FC;\n",
              "    }\n",
              "\n",
              "    [theme=dark] .colab-df-convert:hover {\n",
              "      background-color: #434B5C;\n",
              "      box-shadow: 0px 1px 3px 1px rgba(0, 0, 0, 0.15);\n",
              "      filter: drop-shadow(0px 1px 2px rgba(0, 0, 0, 0.3));\n",
              "      fill: #FFFFFF;\n",
              "    }\n",
              "  </style>\n",
              "\n",
              "      <script>\n",
              "        const buttonEl =\n",
              "          document.querySelector('#df-2f760dd4-168e-47c6-a649-cc9d187b0ad6 button.colab-df-convert');\n",
              "        buttonEl.style.display =\n",
              "          google.colab.kernel.accessAllowed ? 'block' : 'none';\n",
              "\n",
              "        async function convertToInteractive(key) {\n",
              "          const element = document.querySelector('#df-2f760dd4-168e-47c6-a649-cc9d187b0ad6');\n",
              "          const dataTable =\n",
              "            await google.colab.kernel.invokeFunction('convertToInteractive',\n",
              "                                                     [key], {});\n",
              "          if (!dataTable) return;\n",
              "\n",
              "          const docLinkHtml = 'Like what you see? Visit the ' +\n",
              "            '<a target=\"_blank\" href=https://colab.research.google.com/notebooks/data_table.ipynb>data table notebook</a>'\n",
              "            + ' to learn more about interactive tables.';\n",
              "          element.innerHTML = '';\n",
              "          dataTable['output_type'] = 'display_data';\n",
              "          await google.colab.output.renderOutput(dataTable, element);\n",
              "          const docLink = document.createElement('div');\n",
              "          docLink.innerHTML = docLinkHtml;\n",
              "          element.appendChild(docLink);\n",
              "        }\n",
              "      </script>\n",
              "    </div>\n",
              "  </div>\n",
              "  "
            ]
          },
          "metadata": {},
          "execution_count": 34
        }
      ]
    },
    {
      "cell_type": "code",
      "source": [
        "df.rename(columns={\"Petrol (USD)\": \"Petrol\"}, inplace = True)\n",
        "df.head()"
      ],
      "metadata": {
        "colab": {
          "base_uri": "https://localhost:8080/",
          "height": 206
        },
        "id": "GM245j2lpEQh",
        "outputId": "cc452362-c5b4-4c4f-b583-b8661452e36d"
      },
      "execution_count": 35,
      "outputs": [
        {
          "output_type": "execute_result",
          "data": {
            "text/plain": [
              "        Date  Petrol\n",
              "0   6/9/2003   74.59\n",
              "1  6/16/2003   74.47\n",
              "2  6/23/2003   74.42\n",
              "3  6/30/2003   74.35\n",
              "4   7/7/2003   74.28"
            ],
            "text/html": [
              "\n",
              "  <div id=\"df-c79e6b76-d705-49ea-bcad-141fdb591910\">\n",
              "    <div class=\"colab-df-container\">\n",
              "      <div>\n",
              "<style scoped>\n",
              "    .dataframe tbody tr th:only-of-type {\n",
              "        vertical-align: middle;\n",
              "    }\n",
              "\n",
              "    .dataframe tbody tr th {\n",
              "        vertical-align: top;\n",
              "    }\n",
              "\n",
              "    .dataframe thead th {\n",
              "        text-align: right;\n",
              "    }\n",
              "</style>\n",
              "<table border=\"1\" class=\"dataframe\">\n",
              "  <thead>\n",
              "    <tr style=\"text-align: right;\">\n",
              "      <th></th>\n",
              "      <th>Date</th>\n",
              "      <th>Petrol</th>\n",
              "    </tr>\n",
              "  </thead>\n",
              "  <tbody>\n",
              "    <tr>\n",
              "      <th>0</th>\n",
              "      <td>6/9/2003</td>\n",
              "      <td>74.59</td>\n",
              "    </tr>\n",
              "    <tr>\n",
              "      <th>1</th>\n",
              "      <td>6/16/2003</td>\n",
              "      <td>74.47</td>\n",
              "    </tr>\n",
              "    <tr>\n",
              "      <th>2</th>\n",
              "      <td>6/23/2003</td>\n",
              "      <td>74.42</td>\n",
              "    </tr>\n",
              "    <tr>\n",
              "      <th>3</th>\n",
              "      <td>6/30/2003</td>\n",
              "      <td>74.35</td>\n",
              "    </tr>\n",
              "    <tr>\n",
              "      <th>4</th>\n",
              "      <td>7/7/2003</td>\n",
              "      <td>74.28</td>\n",
              "    </tr>\n",
              "  </tbody>\n",
              "</table>\n",
              "</div>\n",
              "      <button class=\"colab-df-convert\" onclick=\"convertToInteractive('df-c79e6b76-d705-49ea-bcad-141fdb591910')\"\n",
              "              title=\"Convert this dataframe to an interactive table.\"\n",
              "              style=\"display:none;\">\n",
              "        \n",
              "  <svg xmlns=\"http://www.w3.org/2000/svg\" height=\"24px\"viewBox=\"0 0 24 24\"\n",
              "       width=\"24px\">\n",
              "    <path d=\"M0 0h24v24H0V0z\" fill=\"none\"/>\n",
              "    <path d=\"M18.56 5.44l.94 2.06.94-2.06 2.06-.94-2.06-.94-.94-2.06-.94 2.06-2.06.94zm-11 1L8.5 8.5l.94-2.06 2.06-.94-2.06-.94L8.5 2.5l-.94 2.06-2.06.94zm10 10l.94 2.06.94-2.06 2.06-.94-2.06-.94-.94-2.06-.94 2.06-2.06.94z\"/><path d=\"M17.41 7.96l-1.37-1.37c-.4-.4-.92-.59-1.43-.59-.52 0-1.04.2-1.43.59L10.3 9.45l-7.72 7.72c-.78.78-.78 2.05 0 2.83L4 21.41c.39.39.9.59 1.41.59.51 0 1.02-.2 1.41-.59l7.78-7.78 2.81-2.81c.8-.78.8-2.07 0-2.86zM5.41 20L4 18.59l7.72-7.72 1.47 1.35L5.41 20z\"/>\n",
              "  </svg>\n",
              "      </button>\n",
              "      \n",
              "  <style>\n",
              "    .colab-df-container {\n",
              "      display:flex;\n",
              "      flex-wrap:wrap;\n",
              "      gap: 12px;\n",
              "    }\n",
              "\n",
              "    .colab-df-convert {\n",
              "      background-color: #E8F0FE;\n",
              "      border: none;\n",
              "      border-radius: 50%;\n",
              "      cursor: pointer;\n",
              "      display: none;\n",
              "      fill: #1967D2;\n",
              "      height: 32px;\n",
              "      padding: 0 0 0 0;\n",
              "      width: 32px;\n",
              "    }\n",
              "\n",
              "    .colab-df-convert:hover {\n",
              "      background-color: #E2EBFA;\n",
              "      box-shadow: 0px 1px 2px rgba(60, 64, 67, 0.3), 0px 1px 3px 1px rgba(60, 64, 67, 0.15);\n",
              "      fill: #174EA6;\n",
              "    }\n",
              "\n",
              "    [theme=dark] .colab-df-convert {\n",
              "      background-color: #3B4455;\n",
              "      fill: #D2E3FC;\n",
              "    }\n",
              "\n",
              "    [theme=dark] .colab-df-convert:hover {\n",
              "      background-color: #434B5C;\n",
              "      box-shadow: 0px 1px 3px 1px rgba(0, 0, 0, 0.15);\n",
              "      filter: drop-shadow(0px 1px 2px rgba(0, 0, 0, 0.3));\n",
              "      fill: #FFFFFF;\n",
              "    }\n",
              "  </style>\n",
              "\n",
              "      <script>\n",
              "        const buttonEl =\n",
              "          document.querySelector('#df-c79e6b76-d705-49ea-bcad-141fdb591910 button.colab-df-convert');\n",
              "        buttonEl.style.display =\n",
              "          google.colab.kernel.accessAllowed ? 'block' : 'none';\n",
              "\n",
              "        async function convertToInteractive(key) {\n",
              "          const element = document.querySelector('#df-c79e6b76-d705-49ea-bcad-141fdb591910');\n",
              "          const dataTable =\n",
              "            await google.colab.kernel.invokeFunction('convertToInteractive',\n",
              "                                                     [key], {});\n",
              "          if (!dataTable) return;\n",
              "\n",
              "          const docLinkHtml = 'Like what you see? Visit the ' +\n",
              "            '<a target=\"_blank\" href=https://colab.research.google.com/notebooks/data_table.ipynb>data table notebook</a>'\n",
              "            + ' to learn more about interactive tables.';\n",
              "          element.innerHTML = '';\n",
              "          dataTable['output_type'] = 'display_data';\n",
              "          await google.colab.output.renderOutput(dataTable, element);\n",
              "          const docLink = document.createElement('div');\n",
              "          docLink.innerHTML = docLinkHtml;\n",
              "          element.appendChild(docLink);\n",
              "        }\n",
              "      </script>\n",
              "    </div>\n",
              "  </div>\n",
              "  "
            ]
          },
          "metadata": {},
          "execution_count": 35
        }
      ]
    },
    {
      "cell_type": "code",
      "source": [
        "df2 = df.dropna()\n",
        "df3=df2[df2.Petrol<160]\n",
        "df3.head()"
      ],
      "metadata": {
        "colab": {
          "base_uri": "https://localhost:8080/",
          "height": 206
        },
        "id": "DwcZ1SvKpPbZ",
        "outputId": "ee83a408-708c-4a58-8b62-8dbf5c2734d0"
      },
      "execution_count": 36,
      "outputs": [
        {
          "output_type": "execute_result",
          "data": {
            "text/plain": [
              "        Date  Petrol\n",
              "0   6/9/2003   74.59\n",
              "1  6/16/2003   74.47\n",
              "2  6/23/2003   74.42\n",
              "3  6/30/2003   74.35\n",
              "4   7/7/2003   74.28"
            ],
            "text/html": [
              "\n",
              "  <div id=\"df-1a9c39e2-5ffb-4628-abec-d41918670c65\">\n",
              "    <div class=\"colab-df-container\">\n",
              "      <div>\n",
              "<style scoped>\n",
              "    .dataframe tbody tr th:only-of-type {\n",
              "        vertical-align: middle;\n",
              "    }\n",
              "\n",
              "    .dataframe tbody tr th {\n",
              "        vertical-align: top;\n",
              "    }\n",
              "\n",
              "    .dataframe thead th {\n",
              "        text-align: right;\n",
              "    }\n",
              "</style>\n",
              "<table border=\"1\" class=\"dataframe\">\n",
              "  <thead>\n",
              "    <tr style=\"text-align: right;\">\n",
              "      <th></th>\n",
              "      <th>Date</th>\n",
              "      <th>Petrol</th>\n",
              "    </tr>\n",
              "  </thead>\n",
              "  <tbody>\n",
              "    <tr>\n",
              "      <th>0</th>\n",
              "      <td>6/9/2003</td>\n",
              "      <td>74.59</td>\n",
              "    </tr>\n",
              "    <tr>\n",
              "      <th>1</th>\n",
              "      <td>6/16/2003</td>\n",
              "      <td>74.47</td>\n",
              "    </tr>\n",
              "    <tr>\n",
              "      <th>2</th>\n",
              "      <td>6/23/2003</td>\n",
              "      <td>74.42</td>\n",
              "    </tr>\n",
              "    <tr>\n",
              "      <th>3</th>\n",
              "      <td>6/30/2003</td>\n",
              "      <td>74.35</td>\n",
              "    </tr>\n",
              "    <tr>\n",
              "      <th>4</th>\n",
              "      <td>7/7/2003</td>\n",
              "      <td>74.28</td>\n",
              "    </tr>\n",
              "  </tbody>\n",
              "</table>\n",
              "</div>\n",
              "      <button class=\"colab-df-convert\" onclick=\"convertToInteractive('df-1a9c39e2-5ffb-4628-abec-d41918670c65')\"\n",
              "              title=\"Convert this dataframe to an interactive table.\"\n",
              "              style=\"display:none;\">\n",
              "        \n",
              "  <svg xmlns=\"http://www.w3.org/2000/svg\" height=\"24px\"viewBox=\"0 0 24 24\"\n",
              "       width=\"24px\">\n",
              "    <path d=\"M0 0h24v24H0V0z\" fill=\"none\"/>\n",
              "    <path d=\"M18.56 5.44l.94 2.06.94-2.06 2.06-.94-2.06-.94-.94-2.06-.94 2.06-2.06.94zm-11 1L8.5 8.5l.94-2.06 2.06-.94-2.06-.94L8.5 2.5l-.94 2.06-2.06.94zm10 10l.94 2.06.94-2.06 2.06-.94-2.06-.94-.94-2.06-.94 2.06-2.06.94z\"/><path d=\"M17.41 7.96l-1.37-1.37c-.4-.4-.92-.59-1.43-.59-.52 0-1.04.2-1.43.59L10.3 9.45l-7.72 7.72c-.78.78-.78 2.05 0 2.83L4 21.41c.39.39.9.59 1.41.59.51 0 1.02-.2 1.41-.59l7.78-7.78 2.81-2.81c.8-.78.8-2.07 0-2.86zM5.41 20L4 18.59l7.72-7.72 1.47 1.35L5.41 20z\"/>\n",
              "  </svg>\n",
              "      </button>\n",
              "      \n",
              "  <style>\n",
              "    .colab-df-container {\n",
              "      display:flex;\n",
              "      flex-wrap:wrap;\n",
              "      gap: 12px;\n",
              "    }\n",
              "\n",
              "    .colab-df-convert {\n",
              "      background-color: #E8F0FE;\n",
              "      border: none;\n",
              "      border-radius: 50%;\n",
              "      cursor: pointer;\n",
              "      display: none;\n",
              "      fill: #1967D2;\n",
              "      height: 32px;\n",
              "      padding: 0 0 0 0;\n",
              "      width: 32px;\n",
              "    }\n",
              "\n",
              "    .colab-df-convert:hover {\n",
              "      background-color: #E2EBFA;\n",
              "      box-shadow: 0px 1px 2px rgba(60, 64, 67, 0.3), 0px 1px 3px 1px rgba(60, 64, 67, 0.15);\n",
              "      fill: #174EA6;\n",
              "    }\n",
              "\n",
              "    [theme=dark] .colab-df-convert {\n",
              "      background-color: #3B4455;\n",
              "      fill: #D2E3FC;\n",
              "    }\n",
              "\n",
              "    [theme=dark] .colab-df-convert:hover {\n",
              "      background-color: #434B5C;\n",
              "      box-shadow: 0px 1px 3px 1px rgba(0, 0, 0, 0.15);\n",
              "      filter: drop-shadow(0px 1px 2px rgba(0, 0, 0, 0.3));\n",
              "      fill: #FFFFFF;\n",
              "    }\n",
              "  </style>\n",
              "\n",
              "      <script>\n",
              "        const buttonEl =\n",
              "          document.querySelector('#df-1a9c39e2-5ffb-4628-abec-d41918670c65 button.colab-df-convert');\n",
              "        buttonEl.style.display =\n",
              "          google.colab.kernel.accessAllowed ? 'block' : 'none';\n",
              "\n",
              "        async function convertToInteractive(key) {\n",
              "          const element = document.querySelector('#df-1a9c39e2-5ffb-4628-abec-d41918670c65');\n",
              "          const dataTable =\n",
              "            await google.colab.kernel.invokeFunction('convertToInteractive',\n",
              "                                                     [key], {});\n",
              "          if (!dataTable) return;\n",
              "\n",
              "          const docLinkHtml = 'Like what you see? Visit the ' +\n",
              "            '<a target=\"_blank\" href=https://colab.research.google.com/notebooks/data_table.ipynb>data table notebook</a>'\n",
              "            + ' to learn more about interactive tables.';\n",
              "          element.innerHTML = '';\n",
              "          dataTable['output_type'] = 'display_data';\n",
              "          await google.colab.output.renderOutput(dataTable, element);\n",
              "          const docLink = document.createElement('div');\n",
              "          docLink.innerHTML = docLinkHtml;\n",
              "          element.appendChild(docLink);\n",
              "        }\n",
              "      </script>\n",
              "    </div>\n",
              "  </div>\n",
              "  "
            ]
          },
          "metadata": {},
          "execution_count": 36
        }
      ]
    },
    {
      "cell_type": "code",
      "source": [
        "df4=df3.reset_index()['Petrol']\n",
        "df4.head()"
      ],
      "metadata": {
        "colab": {
          "base_uri": "https://localhost:8080/"
        },
        "id": "baLPs-VKpS3g",
        "outputId": "134be0fb-8e8f-4f01-9976-35c2d02be29d"
      },
      "execution_count": 37,
      "outputs": [
        {
          "output_type": "execute_result",
          "data": {
            "text/plain": [
              "0    74.59\n",
              "1    74.47\n",
              "2    74.42\n",
              "3    74.35\n",
              "4    74.28\n",
              "Name: Petrol, dtype: float64"
            ]
          },
          "metadata": {},
          "execution_count": 37
        }
      ]
    },
    {
      "cell_type": "code",
      "source": [
        "model1 = ARIMA(df4.values, order=(5,1,0))\n",
        "model_fit1 = model1.fit()\n",
        "output1= model_fit1.forecast(steps=30)\n",
        "output1"
      ],
      "metadata": {
        "colab": {
          "base_uri": "https://localhost:8080/"
        },
        "id": "lfeMmm87pZX4",
        "outputId": "c4693c1a-458b-4495-b674-58e50eded2cd"
      },
      "execution_count": 38,
      "outputs": [
        {
          "output_type": "execute_result",
          "data": {
            "text/plain": [
              "array([119.80670593, 119.5214334 , 119.30634678, 119.14818579,\n",
              "       119.02925462, 118.93899181, 118.87071686, 118.81917589,\n",
              "       118.78030407, 118.75097676, 118.72883977, 118.71212966,\n",
              "       118.69951711, 118.68999785, 118.68281325, 118.67739062,\n",
              "       118.67329782, 118.67020875, 118.66787724, 118.66611751,\n",
              "       118.66478934, 118.6637869 , 118.66303029, 118.66245924,\n",
              "       118.66202823, 118.66170292, 118.66145739, 118.66127208,\n",
              "       118.66113221, 118.66102664])"
            ]
          },
          "metadata": {},
          "execution_count": 38
        }
      ]
    },
    {
      "cell_type": "markdown",
      "source": [
        "**Using Auto ML**"
      ],
      "metadata": {
        "id": "kRxHvD2xpbtw"
      }
    },
    {
      "cell_type": "markdown",
      "source": [
        "## AutoKeras: An AutoML system based on Keras. It is developed by DATA Lab at Texas A&M University"
      ],
      "metadata": {
        "id": "i3zgT1pEpjTQ"
      }
    },
    {
      "cell_type": "markdown",
      "source": [
        "## Installing Auto Keras"
      ],
      "metadata": {
        "id": "U96k2I_Pplx5"
      }
    },
    {
      "cell_type": "code",
      "source": [
        "!pip install git+https://github.com/keras-team/keras-tuner.git@1.0.2rc1"
      ],
      "metadata": {
        "colab": {
          "base_uri": "https://localhost:8080/"
        },
        "id": "vq3JEoVepoZk",
        "outputId": "a2cf3338-2a5e-4aa4-8dbc-219747653b51"
      },
      "execution_count": 39,
      "outputs": [
        {
          "output_type": "stream",
          "name": "stdout",
          "text": [
            "Looking in indexes: https://pypi.org/simple, https://us-python.pkg.dev/colab-wheels/public/simple/\n",
            "Collecting git+https://github.com/keras-team/keras-tuner.git@1.0.2rc1\n",
            "  Cloning https://github.com/keras-team/keras-tuner.git (to revision 1.0.2rc1) to /tmp/pip-req-build-2d9x32a4\n",
            "  Running command git clone -q https://github.com/keras-team/keras-tuner.git /tmp/pip-req-build-2d9x32a4\n",
            "  Running command git checkout -q 0fb69434a132093518e0e53d40020145ae192629\n",
            "Requirement already satisfied: packaging in /usr/local/lib/python3.7/dist-packages (from keras-tuner==1.0.2rc1) (21.3)\n",
            "Requirement already satisfied: future in /usr/local/lib/python3.7/dist-packages (from keras-tuner==1.0.2rc1) (0.16.0)\n",
            "Requirement already satisfied: numpy in /usr/local/lib/python3.7/dist-packages (from keras-tuner==1.0.2rc1) (1.21.6)\n",
            "Requirement already satisfied: tabulate in /usr/local/lib/python3.7/dist-packages (from keras-tuner==1.0.2rc1) (0.8.9)\n",
            "Collecting terminaltables\n",
            "  Downloading terminaltables-3.1.10-py2.py3-none-any.whl (15 kB)\n",
            "Collecting colorama\n",
            "  Downloading colorama-0.4.4-py2.py3-none-any.whl (16 kB)\n",
            "Requirement already satisfied: tqdm in /usr/local/lib/python3.7/dist-packages (from keras-tuner==1.0.2rc1) (4.64.0)\n",
            "Requirement already satisfied: requests in /usr/local/lib/python3.7/dist-packages (from keras-tuner==1.0.2rc1) (2.23.0)\n",
            "Requirement already satisfied: scipy in /usr/local/lib/python3.7/dist-packages (from keras-tuner==1.0.2rc1) (1.4.1)\n",
            "Requirement already satisfied: scikit-learn in /usr/local/lib/python3.7/dist-packages (from keras-tuner==1.0.2rc1) (1.0.2)\n",
            "Requirement already satisfied: pyparsing!=3.0.5,>=2.0.2 in /usr/local/lib/python3.7/dist-packages (from packaging->keras-tuner==1.0.2rc1) (3.0.9)\n",
            "Requirement already satisfied: urllib3!=1.25.0,!=1.25.1,<1.26,>=1.21.1 in /usr/local/lib/python3.7/dist-packages (from requests->keras-tuner==1.0.2rc1) (1.24.3)\n",
            "Requirement already satisfied: idna<3,>=2.5 in /usr/local/lib/python3.7/dist-packages (from requests->keras-tuner==1.0.2rc1) (2.10)\n",
            "Requirement already satisfied: chardet<4,>=3.0.2 in /usr/local/lib/python3.7/dist-packages (from requests->keras-tuner==1.0.2rc1) (3.0.4)\n",
            "Requirement already satisfied: certifi>=2017.4.17 in /usr/local/lib/python3.7/dist-packages (from requests->keras-tuner==1.0.2rc1) (2022.5.18.1)\n",
            "Requirement already satisfied: joblib>=0.11 in /usr/local/lib/python3.7/dist-packages (from scikit-learn->keras-tuner==1.0.2rc1) (1.1.0)\n",
            "Requirement already satisfied: threadpoolctl>=2.0.0 in /usr/local/lib/python3.7/dist-packages (from scikit-learn->keras-tuner==1.0.2rc1) (3.1.0)\n",
            "Building wheels for collected packages: keras-tuner\n",
            "  Building wheel for keras-tuner (setup.py) ... \u001b[?25l\u001b[?25hdone\n",
            "  Created wheel for keras-tuner: filename=keras_tuner-1.0.2rc1-py3-none-any.whl size=85445 sha256=26cfb43b76f0b3c1b039e6b7627e6e348cb5eb1886a56e0b635a417ed0f8555e\n",
            "  Stored in directory: /tmp/pip-ephem-wheel-cache-w637r9so/wheels/44/e5/92/e83049ca00432aec622a4fa0200e254d88aefae9d74aa86941\n",
            "Successfully built keras-tuner\n",
            "Installing collected packages: terminaltables, colorama, keras-tuner\n",
            "Successfully installed colorama-0.4.4 keras-tuner-1.0.2rc1 terminaltables-3.1.10\n"
          ]
        }
      ]
    },
    {
      "cell_type": "code",
      "source": [
        "!pip install autokeras"
      ],
      "metadata": {
        "colab": {
          "base_uri": "https://localhost:8080/"
        },
        "id": "SM2yxzaUpkFw",
        "outputId": "b78b416a-76a7-4b43-9100-e3168ca3625a"
      },
      "execution_count": 40,
      "outputs": [
        {
          "output_type": "stream",
          "name": "stdout",
          "text": [
            "Looking in indexes: https://pypi.org/simple, https://us-python.pkg.dev/colab-wheels/public/simple/\n",
            "Collecting autokeras\n",
            "  Downloading autokeras-1.0.19-py3-none-any.whl (162 kB)\n",
            "\u001b[K     |████████████████████████████████| 162 kB 5.3 MB/s \n",
            "\u001b[?25hCollecting keras-tuner>=1.1.0\n",
            "  Downloading keras_tuner-1.1.2-py3-none-any.whl (133 kB)\n",
            "\u001b[K     |████████████████████████████████| 133 kB 47.2 MB/s \n",
            "\u001b[?25hRequirement already satisfied: pandas in /usr/local/lib/python3.7/dist-packages (from autokeras) (1.3.5)\n",
            "Requirement already satisfied: tensorflow>=2.8.0 in /usr/local/lib/python3.7/dist-packages (from autokeras) (2.8.2+zzzcolab20220527125636)\n",
            "Requirement already satisfied: packaging in /usr/local/lib/python3.7/dist-packages (from autokeras) (21.3)\n",
            "Requirement already satisfied: requests in /usr/local/lib/python3.7/dist-packages (from keras-tuner>=1.1.0->autokeras) (2.23.0)\n",
            "Requirement already satisfied: numpy in /usr/local/lib/python3.7/dist-packages (from keras-tuner>=1.1.0->autokeras) (1.21.6)\n",
            "Requirement already satisfied: tensorboard in /usr/local/lib/python3.7/dist-packages (from keras-tuner>=1.1.0->autokeras) (2.8.0)\n",
            "Collecting kt-legacy\n",
            "  Downloading kt_legacy-1.0.4-py3-none-any.whl (9.6 kB)\n",
            "Requirement already satisfied: ipython in /usr/local/lib/python3.7/dist-packages (from keras-tuner>=1.1.0->autokeras) (5.5.0)\n",
            "Requirement already satisfied: tensorflow-io-gcs-filesystem>=0.23.1 in /usr/local/lib/python3.7/dist-packages (from tensorflow>=2.8.0->autokeras) (0.26.0)\n",
            "Requirement already satisfied: typing-extensions>=3.6.6 in /usr/local/lib/python3.7/dist-packages (from tensorflow>=2.8.0->autokeras) (4.2.0)\n",
            "Requirement already satisfied: keras<2.9,>=2.8.0rc0 in /usr/local/lib/python3.7/dist-packages (from tensorflow>=2.8.0->autokeras) (2.8.0)\n",
            "Requirement already satisfied: absl-py>=0.4.0 in /usr/local/lib/python3.7/dist-packages (from tensorflow>=2.8.0->autokeras) (1.0.0)\n",
            "Requirement already satisfied: protobuf<3.20,>=3.9.2 in /usr/local/lib/python3.7/dist-packages (from tensorflow>=2.8.0->autokeras) (3.17.3)\n",
            "Requirement already satisfied: termcolor>=1.1.0 in /usr/local/lib/python3.7/dist-packages (from tensorflow>=2.8.0->autokeras) (1.1.0)\n",
            "Requirement already satisfied: opt-einsum>=2.3.2 in /usr/local/lib/python3.7/dist-packages (from tensorflow>=2.8.0->autokeras) (3.3.0)\n",
            "Requirement already satisfied: gast>=0.2.1 in /usr/local/lib/python3.7/dist-packages (from tensorflow>=2.8.0->autokeras) (0.5.3)\n",
            "Requirement already satisfied: grpcio<2.0,>=1.24.3 in /usr/local/lib/python3.7/dist-packages (from tensorflow>=2.8.0->autokeras) (1.46.3)\n",
            "Requirement already satisfied: six>=1.12.0 in /usr/local/lib/python3.7/dist-packages (from tensorflow>=2.8.0->autokeras) (1.15.0)\n",
            "Requirement already satisfied: libclang>=9.0.1 in /usr/local/lib/python3.7/dist-packages (from tensorflow>=2.8.0->autokeras) (14.0.1)\n",
            "Requirement already satisfied: keras-preprocessing>=1.1.1 in /usr/local/lib/python3.7/dist-packages (from tensorflow>=2.8.0->autokeras) (1.1.2)\n",
            "Requirement already satisfied: google-pasta>=0.1.1 in /usr/local/lib/python3.7/dist-packages (from tensorflow>=2.8.0->autokeras) (0.2.0)\n",
            "Requirement already satisfied: setuptools in /usr/local/lib/python3.7/dist-packages (from tensorflow>=2.8.0->autokeras) (57.4.0)\n",
            "Requirement already satisfied: wrapt>=1.11.0 in /usr/local/lib/python3.7/dist-packages (from tensorflow>=2.8.0->autokeras) (1.14.1)\n",
            "Requirement already satisfied: tensorflow-estimator<2.9,>=2.8 in /usr/local/lib/python3.7/dist-packages (from tensorflow>=2.8.0->autokeras) (2.8.0)\n",
            "Requirement already satisfied: h5py>=2.9.0 in /usr/local/lib/python3.7/dist-packages (from tensorflow>=2.8.0->autokeras) (3.1.0)\n",
            "Requirement already satisfied: astunparse>=1.6.0 in /usr/local/lib/python3.7/dist-packages (from tensorflow>=2.8.0->autokeras) (1.6.3)\n",
            "Requirement already satisfied: flatbuffers>=1.12 in /usr/local/lib/python3.7/dist-packages (from tensorflow>=2.8.0->autokeras) (2.0)\n",
            "Requirement already satisfied: wheel<1.0,>=0.23.0 in /usr/local/lib/python3.7/dist-packages (from astunparse>=1.6.0->tensorflow>=2.8.0->autokeras) (0.37.1)\n",
            "Requirement already satisfied: cached-property in /usr/local/lib/python3.7/dist-packages (from h5py>=2.9.0->tensorflow>=2.8.0->autokeras) (1.5.2)\n",
            "Requirement already satisfied: google-auth-oauthlib<0.5,>=0.4.1 in /usr/local/lib/python3.7/dist-packages (from tensorboard->keras-tuner>=1.1.0->autokeras) (0.4.6)\n",
            "Requirement already satisfied: werkzeug>=0.11.15 in /usr/local/lib/python3.7/dist-packages (from tensorboard->keras-tuner>=1.1.0->autokeras) (1.0.1)\n",
            "Requirement already satisfied: markdown>=2.6.8 in /usr/local/lib/python3.7/dist-packages (from tensorboard->keras-tuner>=1.1.0->autokeras) (3.3.7)\n",
            "Requirement already satisfied: tensorboard-data-server<0.7.0,>=0.6.0 in /usr/local/lib/python3.7/dist-packages (from tensorboard->keras-tuner>=1.1.0->autokeras) (0.6.1)\n",
            "Requirement already satisfied: google-auth<3,>=1.6.3 in /usr/local/lib/python3.7/dist-packages (from tensorboard->keras-tuner>=1.1.0->autokeras) (1.35.0)\n",
            "Requirement already satisfied: tensorboard-plugin-wit>=1.6.0 in /usr/local/lib/python3.7/dist-packages (from tensorboard->keras-tuner>=1.1.0->autokeras) (1.8.1)\n",
            "Requirement already satisfied: rsa<5,>=3.1.4 in /usr/local/lib/python3.7/dist-packages (from google-auth<3,>=1.6.3->tensorboard->keras-tuner>=1.1.0->autokeras) (4.8)\n",
            "Requirement already satisfied: cachetools<5.0,>=2.0.0 in /usr/local/lib/python3.7/dist-packages (from google-auth<3,>=1.6.3->tensorboard->keras-tuner>=1.1.0->autokeras) (4.2.4)\n",
            "Requirement already satisfied: pyasn1-modules>=0.2.1 in /usr/local/lib/python3.7/dist-packages (from google-auth<3,>=1.6.3->tensorboard->keras-tuner>=1.1.0->autokeras) (0.2.8)\n",
            "Requirement already satisfied: requests-oauthlib>=0.7.0 in /usr/local/lib/python3.7/dist-packages (from google-auth-oauthlib<0.5,>=0.4.1->tensorboard->keras-tuner>=1.1.0->autokeras) (1.3.1)\n",
            "Requirement already satisfied: importlib-metadata>=4.4 in /usr/local/lib/python3.7/dist-packages (from markdown>=2.6.8->tensorboard->keras-tuner>=1.1.0->autokeras) (4.11.4)\n",
            "Requirement already satisfied: zipp>=0.5 in /usr/local/lib/python3.7/dist-packages (from importlib-metadata>=4.4->markdown>=2.6.8->tensorboard->keras-tuner>=1.1.0->autokeras) (3.8.0)\n",
            "Requirement already satisfied: pyasn1<0.5.0,>=0.4.6 in /usr/local/lib/python3.7/dist-packages (from pyasn1-modules>=0.2.1->google-auth<3,>=1.6.3->tensorboard->keras-tuner>=1.1.0->autokeras) (0.4.8)\n",
            "Requirement already satisfied: certifi>=2017.4.17 in /usr/local/lib/python3.7/dist-packages (from requests->keras-tuner>=1.1.0->autokeras) (2022.5.18.1)\n",
            "Requirement already satisfied: urllib3!=1.25.0,!=1.25.1,<1.26,>=1.21.1 in /usr/local/lib/python3.7/dist-packages (from requests->keras-tuner>=1.1.0->autokeras) (1.24.3)\n",
            "Requirement already satisfied: idna<3,>=2.5 in /usr/local/lib/python3.7/dist-packages (from requests->keras-tuner>=1.1.0->autokeras) (2.10)\n",
            "Requirement already satisfied: chardet<4,>=3.0.2 in /usr/local/lib/python3.7/dist-packages (from requests->keras-tuner>=1.1.0->autokeras) (3.0.4)\n",
            "Requirement already satisfied: oauthlib>=3.0.0 in /usr/local/lib/python3.7/dist-packages (from requests-oauthlib>=0.7.0->google-auth-oauthlib<0.5,>=0.4.1->tensorboard->keras-tuner>=1.1.0->autokeras) (3.2.0)\n",
            "Requirement already satisfied: simplegeneric>0.8 in /usr/local/lib/python3.7/dist-packages (from ipython->keras-tuner>=1.1.0->autokeras) (0.8.1)\n",
            "Requirement already satisfied: pexpect in /usr/local/lib/python3.7/dist-packages (from ipython->keras-tuner>=1.1.0->autokeras) (4.8.0)\n",
            "Requirement already satisfied: pickleshare in /usr/local/lib/python3.7/dist-packages (from ipython->keras-tuner>=1.1.0->autokeras) (0.7.5)\n",
            "Requirement already satisfied: prompt-toolkit<2.0.0,>=1.0.4 in /usr/local/lib/python3.7/dist-packages (from ipython->keras-tuner>=1.1.0->autokeras) (1.0.18)\n",
            "Requirement already satisfied: decorator in /usr/local/lib/python3.7/dist-packages (from ipython->keras-tuner>=1.1.0->autokeras) (4.4.2)\n",
            "Requirement already satisfied: traitlets>=4.2 in /usr/local/lib/python3.7/dist-packages (from ipython->keras-tuner>=1.1.0->autokeras) (5.1.1)\n",
            "Requirement already satisfied: pygments in /usr/local/lib/python3.7/dist-packages (from ipython->keras-tuner>=1.1.0->autokeras) (2.6.1)\n",
            "Requirement already satisfied: wcwidth in /usr/local/lib/python3.7/dist-packages (from prompt-toolkit<2.0.0,>=1.0.4->ipython->keras-tuner>=1.1.0->autokeras) (0.2.5)\n",
            "Requirement already satisfied: pyparsing!=3.0.5,>=2.0.2 in /usr/local/lib/python3.7/dist-packages (from packaging->autokeras) (3.0.9)\n",
            "Requirement already satisfied: pytz>=2017.3 in /usr/local/lib/python3.7/dist-packages (from pandas->autokeras) (2022.1)\n",
            "Requirement already satisfied: python-dateutil>=2.7.3 in /usr/local/lib/python3.7/dist-packages (from pandas->autokeras) (2.8.2)\n",
            "Requirement already satisfied: ptyprocess>=0.5 in /usr/local/lib/python3.7/dist-packages (from pexpect->ipython->keras-tuner>=1.1.0->autokeras) (0.7.0)\n",
            "Installing collected packages: kt-legacy, keras-tuner, autokeras\n",
            "  Attempting uninstall: keras-tuner\n",
            "    Found existing installation: keras-tuner 1.0.2rc1\n",
            "    Uninstalling keras-tuner-1.0.2rc1:\n",
            "      Successfully uninstalled keras-tuner-1.0.2rc1\n",
            "Successfully installed autokeras-1.0.19 keras-tuner-1.1.2 kt-legacy-1.0.4\n"
          ]
        }
      ]
    },
    {
      "cell_type": "code",
      "source": [
        "!pip show autokeras"
      ],
      "metadata": {
        "colab": {
          "base_uri": "https://localhost:8080/"
        },
        "id": "6Kq1Oy7bpe2p",
        "outputId": "a6174f5d-801a-4f1d-94bc-1bced693296d"
      },
      "execution_count": 41,
      "outputs": [
        {
          "output_type": "stream",
          "name": "stdout",
          "text": [
            "Name: autokeras\n",
            "Version: 1.0.19\n",
            "Summary: AutoML for deep learning\n",
            "Home-page: http://autokeras.com\n",
            "Author: DATA Lab, Keras Team\n",
            "Author-email: jhfjhfj1@gmail.com\n",
            "License: Apache License 2.0\n",
            "Location: /usr/local/lib/python3.7/dist-packages\n",
            "Requires: tensorflow, keras-tuner, packaging, pandas\n",
            "Required-by: \n"
          ]
        }
      ]
    },
    {
      "cell_type": "code",
      "source": [
        "import numpy as np\n",
        "import pandas as pd\n",
        "import tensorflow as tf\n",
        "\n",
        "\n",
        "import autokeras as ak"
      ],
      "metadata": {
        "id": "0CP4QneGpziY"
      },
      "execution_count": 42,
      "outputs": []
    },
    {
      "cell_type": "code",
      "source": [
        "X_train =X_train.reshape(X_train.shape[0],X_train.shape[1])\n",
        "X_test = X_test.reshape(X_test.shape[0],X_test.shape[1])"
      ],
      "metadata": {
        "id": "8GQ8t40Gq_5B"
      },
      "execution_count": 53,
      "outputs": []
    },
    {
      "cell_type": "code",
      "source": [
        "reg = ak.StructuredDataRegressor(\n",
        "    overwrite=True, max_trials=3,\n",
        ")"
      ],
      "metadata": {
        "id": "XFwAcXSLp3dv"
      },
      "execution_count": 54,
      "outputs": []
    },
    {
      "cell_type": "code",
      "source": [
        "reg.fit(x=X_train, y=y_train, verbose=0)"
      ],
      "metadata": {
        "colab": {
          "base_uri": "https://localhost:8080/"
        },
        "id": "c1IK319Dp81n",
        "outputId": "e75fc3e8-6379-4e87-b708-4de11d5da7e0"
      },
      "execution_count": 55,
      "outputs": [
        {
          "output_type": "stream",
          "name": "stdout",
          "text": [
            "INFO:tensorflow:Oracle triggered exit\n"
          ]
        },
        {
          "output_type": "stream",
          "name": "stderr",
          "text": [
            "INFO:tensorflow:Oracle triggered exit\n"
          ]
        },
        {
          "output_type": "stream",
          "name": "stdout",
          "text": [
            "14/14 [==============================] - 1s 3ms/step - loss: 1.0221 - mean_squared_error: 1.0221\n",
            "INFO:tensorflow:Assets written to: ./structured_data_regressor/best_model/assets\n"
          ]
        },
        {
          "output_type": "stream",
          "name": "stderr",
          "text": [
            "INFO:tensorflow:Assets written to: ./structured_data_regressor/best_model/assets\n"
          ]
        },
        {
          "output_type": "execute_result",
          "data": {
            "text/plain": [
              "<keras.callbacks.History at 0x7fe203f06190>"
            ]
          },
          "metadata": {},
          "execution_count": 55
        }
      ]
    },
    {
      "cell_type": "code",
      "source": [
        "# evaluate the model\n",
        "mae, _  = reg.evaluate(X_test, ytest, verbose=0)\n",
        "#print('MAE: %.3f' % mae)\n",
        "# use the model to make a prediction\n",
        "yhat_test = reg.predict(X_test)\n",
        "\n",
        "# get the best performing model\n",
        "model = reg.export_model()"
      ],
      "metadata": {
        "colab": {
          "base_uri": "https://localhost:8080/"
        },
        "id": "ZJLtEHUJrIeA",
        "outputId": "970a2fde-5bf9-4d46-c24d-af65435cb2b1"
      },
      "execution_count": 56,
      "outputs": [
        {
          "output_type": "stream",
          "name": "stdout",
          "text": [
            "6/6 [==============================] - 0s 5ms/step\n"
          ]
        }
      ]
    },
    {
      "cell_type": "code",
      "source": [
        "# summarize the loaded model\n",
        "model.summary()"
      ],
      "metadata": {
        "colab": {
          "base_uri": "https://localhost:8080/"
        },
        "id": "I4_tFEZPrLy5",
        "outputId": "f9a8d119-6124-41a7-d0ab-6498ecf06279"
      },
      "execution_count": 57,
      "outputs": [
        {
          "output_type": "stream",
          "name": "stdout",
          "text": [
            "Model: \"model\"\n",
            "_________________________________________________________________\n",
            " Layer (type)                Output Shape              Param #   \n",
            "=================================================================\n",
            " input_1 (InputLayer)        [(None, 100)]             0         \n",
            "                                                                 \n",
            " multi_category_encoding (Mu  (None, 100)              0         \n",
            " ltiCategoryEncoding)                                            \n",
            "                                                                 \n",
            " normalization (Normalizatio  (None, 100)              201       \n",
            " n)                                                              \n",
            "                                                                 \n",
            " dense (Dense)               (None, 32)                3232      \n",
            "                                                                 \n",
            " re_lu (ReLU)                (None, 32)                0         \n",
            "                                                                 \n",
            " dense_1 (Dense)             (None, 32)                1056      \n",
            "                                                                 \n",
            " re_lu_1 (ReLU)              (None, 32)                0         \n",
            "                                                                 \n",
            " dropout (Dropout)           (None, 32)                0         \n",
            "                                                                 \n",
            " regression_head_1 (Dense)   (None, 1)                 33        \n",
            "                                                                 \n",
            "=================================================================\n",
            "Total params: 4,522\n",
            "Trainable params: 4,321\n",
            "Non-trainable params: 201\n",
            "_________________________________________________________________\n"
          ]
        }
      ]
    },
    {
      "cell_type": "code",
      "source": [
        "yhat_train= reg.predict(X_train)"
      ],
      "metadata": {
        "colab": {
          "base_uri": "https://localhost:8080/"
        },
        "id": "INb4uqyNrPe5",
        "outputId": "2b1a5eb2-2f9d-4100-e81d-a2611d84c40a"
      },
      "execution_count": 58,
      "outputs": [
        {
          "output_type": "stream",
          "name": "stdout",
          "text": [
            "14/14 [==============================] - 0s 3ms/step\n"
          ]
        }
      ]
    },
    {
      "cell_type": "code",
      "source": [
        "train_predict=scaler.inverse_transform(yhat_train)\n",
        "test_predict=scaler.inverse_transform(yhat_test)"
      ],
      "metadata": {
        "id": "-moWVP0rrRBo"
      },
      "execution_count": 59,
      "outputs": []
    },
    {
      "cell_type": "code",
      "source": [
        "from sklearn.metrics import mean_squared_error,accuracy_score"
      ],
      "metadata": {
        "id": "cgtcK1DWrUeP"
      },
      "execution_count": 60,
      "outputs": []
    },
    {
      "cell_type": "code",
      "source": [
        "mean_squared_error(ytest,yhat_test)"
      ],
      "metadata": {
        "colab": {
          "base_uri": "https://localhost:8080/"
        },
        "id": "tSgJXisarc8A",
        "outputId": "29a2d4c5-f1d5-45a0-a3c5-1eae8d95b338"
      },
      "execution_count": 61,
      "outputs": [
        {
          "output_type": "execute_result",
          "data": {
            "text/plain": [
              "0.2898695620555125"
            ]
          },
          "metadata": {},
          "execution_count": 61
        }
      ]
    },
    {
      "cell_type": "code",
      "source": [
        "mean_squared_error(y_train,yhat_train)"
      ],
      "metadata": {
        "colab": {
          "base_uri": "https://localhost:8080/"
        },
        "id": "KJqxRmQ3rh5g",
        "outputId": "9210bb58-c989-47ad-ce13-1f4f52e76548"
      },
      "execution_count": 62,
      "outputs": [
        {
          "output_type": "execute_result",
          "data": {
            "text/plain": [
              "0.15985939386271222"
            ]
          },
          "metadata": {},
          "execution_count": 62
        }
      ]
    }
  ]
}